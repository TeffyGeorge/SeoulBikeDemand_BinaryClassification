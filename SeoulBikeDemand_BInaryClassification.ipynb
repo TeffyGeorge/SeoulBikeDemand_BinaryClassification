{
 "cells": [
  {
   "cell_type": "code",
   "execution_count": 3,
   "id": "810832cc",
   "metadata": {},
   "outputs": [],
   "source": [
    "# importing the libraries required\n",
    "import pandas as pd\n",
    "import numpy as np\n",
    "import matplotlib.pyplot as plt\n",
    "import seaborn as sb\n",
    "\n",
    "from sklearn.model_selection import cross_validate\n",
    "from sklearn.model_selection import train_test_split\n",
    "from sklearn.model_selection import GridSearchCV\n",
    "from sklearn.model_selection import cross_val_score\n",
    "from sklearn.model_selection import RepeatedStratifiedKFold\n",
    "from sklearn.model_selection import RandomizedSearchCV\n",
    "\n",
    "from sklearn.preprocessing import StandardScaler\n",
    "from sklearn import preprocessing\n",
    "\n",
    "from sklearn.metrics import mean_squared_error, mean_absolute_error, r2_score\n",
    "import warnings\n",
    "warnings.filterwarnings('ignore')"
   ]
  },
  {
   "cell_type": "code",
   "execution_count": 4,
   "id": "ed74c30b",
   "metadata": {},
   "outputs": [],
   "source": [
    "# read data from excel\n",
    "bike_df = pd.read_csv(\"SeoulBikeData.csv\",encoding='cp1252')"
   ]
  },
  {
   "cell_type": "code",
   "execution_count": 5,
   "id": "a16523c0",
   "metadata": {},
   "outputs": [
    {
     "name": "stdout",
     "output_type": "stream",
     "text": [
      "Info Details\n",
      "<class 'pandas.core.frame.DataFrame'>\n",
      "RangeIndex: 8760 entries, 0 to 8759\n",
      "Data columns (total 14 columns):\n",
      " #   Column                     Non-Null Count  Dtype  \n",
      "---  ------                     --------------  -----  \n",
      " 0   Date                       8760 non-null   object \n",
      " 1   Rented Bike Count          8760 non-null   int64  \n",
      " 2   Hour                       8760 non-null   int64  \n",
      " 3   Temperature(°C)            8760 non-null   float64\n",
      " 4   Humidity(%)                8760 non-null   int64  \n",
      " 5   Wind speed (m/s)           8760 non-null   float64\n",
      " 6   Visibility (10m)           8760 non-null   int64  \n",
      " 7   Dew point temperature(°C)  8760 non-null   float64\n",
      " 8   Solar Radiation (MJ/m2)    8760 non-null   float64\n",
      " 9   Rainfall(mm)               8760 non-null   float64\n",
      " 10  Snowfall (cm)              8760 non-null   float64\n",
      " 11  Seasons                    8760 non-null   object \n",
      " 12  Holiday                    8760 non-null   object \n",
      " 13  Functioning Day            8760 non-null   object \n",
      "dtypes: float64(6), int64(4), object(4)\n",
      "memory usage: 958.2+ KB\n"
     ]
    }
   ],
   "source": [
    "print(\"Info Details\")\n",
    "bike_df.info()"
   ]
  },
  {
   "cell_type": "code",
   "execution_count": 6,
   "id": "16cfafe1",
   "metadata": {},
   "outputs": [
    {
     "data": {
      "text/html": [
       "<div>\n",
       "<style scoped>\n",
       "    .dataframe tbody tr th:only-of-type {\n",
       "        vertical-align: middle;\n",
       "    }\n",
       "\n",
       "    .dataframe tbody tr th {\n",
       "        vertical-align: top;\n",
       "    }\n",
       "\n",
       "    .dataframe thead th {\n",
       "        text-align: right;\n",
       "    }\n",
       "</style>\n",
       "<table border=\"1\" class=\"dataframe\">\n",
       "  <thead>\n",
       "    <tr style=\"text-align: right;\">\n",
       "      <th></th>\n",
       "      <th>Date</th>\n",
       "      <th>Rented Bike Count</th>\n",
       "      <th>Hour</th>\n",
       "      <th>Temperature(°C)</th>\n",
       "      <th>Humidity(%)</th>\n",
       "      <th>Wind speed (m/s)</th>\n",
       "      <th>Visibility (10m)</th>\n",
       "      <th>Dew point temperature(°C)</th>\n",
       "      <th>Solar Radiation (MJ/m2)</th>\n",
       "      <th>Rainfall(mm)</th>\n",
       "      <th>Snowfall (cm)</th>\n",
       "      <th>Seasons</th>\n",
       "      <th>Holiday</th>\n",
       "      <th>Functioning Day</th>\n",
       "    </tr>\n",
       "  </thead>\n",
       "  <tbody>\n",
       "    <tr>\n",
       "      <th>0</th>\n",
       "      <td>01/12/2017</td>\n",
       "      <td>254</td>\n",
       "      <td>0</td>\n",
       "      <td>-5.2</td>\n",
       "      <td>37</td>\n",
       "      <td>2.2</td>\n",
       "      <td>2000</td>\n",
       "      <td>-17.6</td>\n",
       "      <td>0.0</td>\n",
       "      <td>0.0</td>\n",
       "      <td>0.0</td>\n",
       "      <td>Winter</td>\n",
       "      <td>No Holiday</td>\n",
       "      <td>Yes</td>\n",
       "    </tr>\n",
       "    <tr>\n",
       "      <th>1</th>\n",
       "      <td>01/12/2017</td>\n",
       "      <td>204</td>\n",
       "      <td>1</td>\n",
       "      <td>-5.5</td>\n",
       "      <td>38</td>\n",
       "      <td>0.8</td>\n",
       "      <td>2000</td>\n",
       "      <td>-17.6</td>\n",
       "      <td>0.0</td>\n",
       "      <td>0.0</td>\n",
       "      <td>0.0</td>\n",
       "      <td>Winter</td>\n",
       "      <td>No Holiday</td>\n",
       "      <td>Yes</td>\n",
       "    </tr>\n",
       "    <tr>\n",
       "      <th>2</th>\n",
       "      <td>01/12/2017</td>\n",
       "      <td>173</td>\n",
       "      <td>2</td>\n",
       "      <td>-6.0</td>\n",
       "      <td>39</td>\n",
       "      <td>1.0</td>\n",
       "      <td>2000</td>\n",
       "      <td>-17.7</td>\n",
       "      <td>0.0</td>\n",
       "      <td>0.0</td>\n",
       "      <td>0.0</td>\n",
       "      <td>Winter</td>\n",
       "      <td>No Holiday</td>\n",
       "      <td>Yes</td>\n",
       "    </tr>\n",
       "    <tr>\n",
       "      <th>3</th>\n",
       "      <td>01/12/2017</td>\n",
       "      <td>107</td>\n",
       "      <td>3</td>\n",
       "      <td>-6.2</td>\n",
       "      <td>40</td>\n",
       "      <td>0.9</td>\n",
       "      <td>2000</td>\n",
       "      <td>-17.6</td>\n",
       "      <td>0.0</td>\n",
       "      <td>0.0</td>\n",
       "      <td>0.0</td>\n",
       "      <td>Winter</td>\n",
       "      <td>No Holiday</td>\n",
       "      <td>Yes</td>\n",
       "    </tr>\n",
       "    <tr>\n",
       "      <th>4</th>\n",
       "      <td>01/12/2017</td>\n",
       "      <td>78</td>\n",
       "      <td>4</td>\n",
       "      <td>-6.0</td>\n",
       "      <td>36</td>\n",
       "      <td>2.3</td>\n",
       "      <td>2000</td>\n",
       "      <td>-18.6</td>\n",
       "      <td>0.0</td>\n",
       "      <td>0.0</td>\n",
       "      <td>0.0</td>\n",
       "      <td>Winter</td>\n",
       "      <td>No Holiday</td>\n",
       "      <td>Yes</td>\n",
       "    </tr>\n",
       "  </tbody>\n",
       "</table>\n",
       "</div>"
      ],
      "text/plain": [
       "         Date  Rented Bike Count  Hour  Temperature(°C)  Humidity(%)  \\\n",
       "0  01/12/2017                254     0             -5.2           37   \n",
       "1  01/12/2017                204     1             -5.5           38   \n",
       "2  01/12/2017                173     2             -6.0           39   \n",
       "3  01/12/2017                107     3             -6.2           40   \n",
       "4  01/12/2017                 78     4             -6.0           36   \n",
       "\n",
       "   Wind speed (m/s)  Visibility (10m)  Dew point temperature(°C)  \\\n",
       "0               2.2              2000                      -17.6   \n",
       "1               0.8              2000                      -17.6   \n",
       "2               1.0              2000                      -17.7   \n",
       "3               0.9              2000                      -17.6   \n",
       "4               2.3              2000                      -18.6   \n",
       "\n",
       "   Solar Radiation (MJ/m2)  Rainfall(mm)  Snowfall (cm) Seasons     Holiday  \\\n",
       "0                      0.0           0.0            0.0  Winter  No Holiday   \n",
       "1                      0.0           0.0            0.0  Winter  No Holiday   \n",
       "2                      0.0           0.0            0.0  Winter  No Holiday   \n",
       "3                      0.0           0.0            0.0  Winter  No Holiday   \n",
       "4                      0.0           0.0            0.0  Winter  No Holiday   \n",
       "\n",
       "  Functioning Day  \n",
       "0             Yes  \n",
       "1             Yes  \n",
       "2             Yes  \n",
       "3             Yes  \n",
       "4             Yes  "
      ]
     },
     "execution_count": 6,
     "metadata": {},
     "output_type": "execute_result"
    }
   ],
   "source": [
    "bike_df.head()"
   ]
  },
  {
   "cell_type": "code",
   "execution_count": 7,
   "id": "8d4d1c40",
   "metadata": {},
   "outputs": [
    {
     "data": {
      "text/plain": [
       "Date                         0\n",
       "Rented Bike Count            0\n",
       "Hour                         0\n",
       "Temperature(°C)              0\n",
       "Humidity(%)                  0\n",
       "Wind speed (m/s)             0\n",
       "Visibility (10m)             0\n",
       "Dew point temperature(°C)    0\n",
       "Solar Radiation (MJ/m2)      0\n",
       "Rainfall(mm)                 0\n",
       "Snowfall (cm)                0\n",
       "Seasons                      0\n",
       "Holiday                      0\n",
       "Functioning Day              0\n",
       "dtype: int64"
      ]
     },
     "execution_count": 7,
     "metadata": {},
     "output_type": "execute_result"
    }
   ],
   "source": [
    "#checking missing values\n",
    "bike_df.isna().sum()\n",
    "bike_df.isnull().sum()"
   ]
  },
  {
   "cell_type": "code",
   "execution_count": 8,
   "id": "7d8bd40a",
   "metadata": {},
   "outputs": [
    {
     "name": "stdout",
     "output_type": "stream",
     "text": [
      "Duplicate values :  0\n"
     ]
    }
   ],
   "source": [
    "#checking duplicate values\n",
    "print('Duplicate values : ', len(bike_df[bike_df.duplicated()]))"
   ]
  },
  {
   "cell_type": "code",
   "execution_count": 9,
   "id": "e070eb39",
   "metadata": {},
   "outputs": [
    {
     "data": {
      "text/plain": [
       "1065.25"
      ]
     },
     "execution_count": 9,
     "metadata": {},
     "output_type": "execute_result"
    }
   ],
   "source": [
    "# Dependent variable is Rented Bike Count. \n",
    "# We will change this numerical output to a binary classification \n",
    "# Adding a new variable with threshold set \n",
    "threshold = bike_df['Rented Bike Count'].quantile(0.75)\n",
    "threshold"
   ]
  },
  {
   "cell_type": "code",
   "execution_count": 10,
   "id": "065c89b0",
   "metadata": {},
   "outputs": [
    {
     "data": {
      "text/html": [
       "<div>\n",
       "<style scoped>\n",
       "    .dataframe tbody tr th:only-of-type {\n",
       "        vertical-align: middle;\n",
       "    }\n",
       "\n",
       "    .dataframe tbody tr th {\n",
       "        vertical-align: top;\n",
       "    }\n",
       "\n",
       "    .dataframe thead th {\n",
       "        text-align: right;\n",
       "    }\n",
       "</style>\n",
       "<table border=\"1\" class=\"dataframe\">\n",
       "  <thead>\n",
       "    <tr style=\"text-align: right;\">\n",
       "      <th></th>\n",
       "      <th>Date</th>\n",
       "      <th>Rented Bike Count</th>\n",
       "      <th>Hour</th>\n",
       "      <th>Temperature(°C)</th>\n",
       "      <th>Humidity(%)</th>\n",
       "      <th>Wind speed (m/s)</th>\n",
       "      <th>Visibility (10m)</th>\n",
       "      <th>Dew point temperature(°C)</th>\n",
       "      <th>Solar Radiation (MJ/m2)</th>\n",
       "      <th>Rainfall(mm)</th>\n",
       "      <th>Snowfall (cm)</th>\n",
       "      <th>Seasons</th>\n",
       "      <th>Holiday</th>\n",
       "      <th>Functioning Day</th>\n",
       "      <th>Rented_Bike_Count_Value</th>\n",
       "    </tr>\n",
       "  </thead>\n",
       "  <tbody>\n",
       "    <tr>\n",
       "      <th>0</th>\n",
       "      <td>01/12/2017</td>\n",
       "      <td>254</td>\n",
       "      <td>0</td>\n",
       "      <td>-5.2</td>\n",
       "      <td>37</td>\n",
       "      <td>2.2</td>\n",
       "      <td>2000</td>\n",
       "      <td>-17.6</td>\n",
       "      <td>0.00</td>\n",
       "      <td>0.0</td>\n",
       "      <td>0.0</td>\n",
       "      <td>Winter</td>\n",
       "      <td>No Holiday</td>\n",
       "      <td>Yes</td>\n",
       "      <td>0.0</td>\n",
       "    </tr>\n",
       "    <tr>\n",
       "      <th>1</th>\n",
       "      <td>01/12/2017</td>\n",
       "      <td>204</td>\n",
       "      <td>1</td>\n",
       "      <td>-5.5</td>\n",
       "      <td>38</td>\n",
       "      <td>0.8</td>\n",
       "      <td>2000</td>\n",
       "      <td>-17.6</td>\n",
       "      <td>0.00</td>\n",
       "      <td>0.0</td>\n",
       "      <td>0.0</td>\n",
       "      <td>Winter</td>\n",
       "      <td>No Holiday</td>\n",
       "      <td>Yes</td>\n",
       "      <td>0.0</td>\n",
       "    </tr>\n",
       "    <tr>\n",
       "      <th>2</th>\n",
       "      <td>01/12/2017</td>\n",
       "      <td>173</td>\n",
       "      <td>2</td>\n",
       "      <td>-6.0</td>\n",
       "      <td>39</td>\n",
       "      <td>1.0</td>\n",
       "      <td>2000</td>\n",
       "      <td>-17.7</td>\n",
       "      <td>0.00</td>\n",
       "      <td>0.0</td>\n",
       "      <td>0.0</td>\n",
       "      <td>Winter</td>\n",
       "      <td>No Holiday</td>\n",
       "      <td>Yes</td>\n",
       "      <td>0.0</td>\n",
       "    </tr>\n",
       "    <tr>\n",
       "      <th>3</th>\n",
       "      <td>01/12/2017</td>\n",
       "      <td>107</td>\n",
       "      <td>3</td>\n",
       "      <td>-6.2</td>\n",
       "      <td>40</td>\n",
       "      <td>0.9</td>\n",
       "      <td>2000</td>\n",
       "      <td>-17.6</td>\n",
       "      <td>0.00</td>\n",
       "      <td>0.0</td>\n",
       "      <td>0.0</td>\n",
       "      <td>Winter</td>\n",
       "      <td>No Holiday</td>\n",
       "      <td>Yes</td>\n",
       "      <td>0.0</td>\n",
       "    </tr>\n",
       "    <tr>\n",
       "      <th>4</th>\n",
       "      <td>01/12/2017</td>\n",
       "      <td>78</td>\n",
       "      <td>4</td>\n",
       "      <td>-6.0</td>\n",
       "      <td>36</td>\n",
       "      <td>2.3</td>\n",
       "      <td>2000</td>\n",
       "      <td>-18.6</td>\n",
       "      <td>0.00</td>\n",
       "      <td>0.0</td>\n",
       "      <td>0.0</td>\n",
       "      <td>Winter</td>\n",
       "      <td>No Holiday</td>\n",
       "      <td>Yes</td>\n",
       "      <td>0.0</td>\n",
       "    </tr>\n",
       "    <tr>\n",
       "      <th>...</th>\n",
       "      <td>...</td>\n",
       "      <td>...</td>\n",
       "      <td>...</td>\n",
       "      <td>...</td>\n",
       "      <td>...</td>\n",
       "      <td>...</td>\n",
       "      <td>...</td>\n",
       "      <td>...</td>\n",
       "      <td>...</td>\n",
       "      <td>...</td>\n",
       "      <td>...</td>\n",
       "      <td>...</td>\n",
       "      <td>...</td>\n",
       "      <td>...</td>\n",
       "      <td>...</td>\n",
       "    </tr>\n",
       "    <tr>\n",
       "      <th>4995</th>\n",
       "      <td>27/06/2018</td>\n",
       "      <td>152</td>\n",
       "      <td>3</td>\n",
       "      <td>19.4</td>\n",
       "      <td>97</td>\n",
       "      <td>2.9</td>\n",
       "      <td>282</td>\n",
       "      <td>18.9</td>\n",
       "      <td>0.00</td>\n",
       "      <td>0.0</td>\n",
       "      <td>0.0</td>\n",
       "      <td>Summer</td>\n",
       "      <td>No Holiday</td>\n",
       "      <td>Yes</td>\n",
       "      <td>0.0</td>\n",
       "    </tr>\n",
       "    <tr>\n",
       "      <th>4996</th>\n",
       "      <td>27/06/2018</td>\n",
       "      <td>110</td>\n",
       "      <td>4</td>\n",
       "      <td>19.2</td>\n",
       "      <td>97</td>\n",
       "      <td>1.0</td>\n",
       "      <td>217</td>\n",
       "      <td>18.7</td>\n",
       "      <td>0.00</td>\n",
       "      <td>0.5</td>\n",
       "      <td>0.0</td>\n",
       "      <td>Summer</td>\n",
       "      <td>No Holiday</td>\n",
       "      <td>Yes</td>\n",
       "      <td>0.0</td>\n",
       "    </tr>\n",
       "    <tr>\n",
       "      <th>4997</th>\n",
       "      <td>27/06/2018</td>\n",
       "      <td>162</td>\n",
       "      <td>5</td>\n",
       "      <td>19.1</td>\n",
       "      <td>97</td>\n",
       "      <td>1.2</td>\n",
       "      <td>402</td>\n",
       "      <td>18.6</td>\n",
       "      <td>0.00</td>\n",
       "      <td>0.0</td>\n",
       "      <td>0.0</td>\n",
       "      <td>Summer</td>\n",
       "      <td>No Holiday</td>\n",
       "      <td>Yes</td>\n",
       "      <td>0.0</td>\n",
       "    </tr>\n",
       "    <tr>\n",
       "      <th>4998</th>\n",
       "      <td>27/06/2018</td>\n",
       "      <td>417</td>\n",
       "      <td>6</td>\n",
       "      <td>19.2</td>\n",
       "      <td>97</td>\n",
       "      <td>1.5</td>\n",
       "      <td>157</td>\n",
       "      <td>18.7</td>\n",
       "      <td>0.00</td>\n",
       "      <td>0.0</td>\n",
       "      <td>0.0</td>\n",
       "      <td>Summer</td>\n",
       "      <td>No Holiday</td>\n",
       "      <td>Yes</td>\n",
       "      <td>0.0</td>\n",
       "    </tr>\n",
       "    <tr>\n",
       "      <th>4999</th>\n",
       "      <td>27/06/2018</td>\n",
       "      <td>1084</td>\n",
       "      <td>7</td>\n",
       "      <td>19.3</td>\n",
       "      <td>98</td>\n",
       "      <td>1.0</td>\n",
       "      <td>188</td>\n",
       "      <td>18.9</td>\n",
       "      <td>0.06</td>\n",
       "      <td>0.0</td>\n",
       "      <td>0.0</td>\n",
       "      <td>Summer</td>\n",
       "      <td>No Holiday</td>\n",
       "      <td>Yes</td>\n",
       "      <td>1.0</td>\n",
       "    </tr>\n",
       "  </tbody>\n",
       "</table>\n",
       "<p>5000 rows × 15 columns</p>\n",
       "</div>"
      ],
      "text/plain": [
       "            Date  Rented Bike Count  Hour  Temperature(°C)  Humidity(%)  \\\n",
       "0     01/12/2017                254     0             -5.2           37   \n",
       "1     01/12/2017                204     1             -5.5           38   \n",
       "2     01/12/2017                173     2             -6.0           39   \n",
       "3     01/12/2017                107     3             -6.2           40   \n",
       "4     01/12/2017                 78     4             -6.0           36   \n",
       "...          ...                ...   ...              ...          ...   \n",
       "4995  27/06/2018                152     3             19.4           97   \n",
       "4996  27/06/2018                110     4             19.2           97   \n",
       "4997  27/06/2018                162     5             19.1           97   \n",
       "4998  27/06/2018                417     6             19.2           97   \n",
       "4999  27/06/2018               1084     7             19.3           98   \n",
       "\n",
       "      Wind speed (m/s)  Visibility (10m)  Dew point temperature(°C)  \\\n",
       "0                  2.2              2000                      -17.6   \n",
       "1                  0.8              2000                      -17.6   \n",
       "2                  1.0              2000                      -17.7   \n",
       "3                  0.9              2000                      -17.6   \n",
       "4                  2.3              2000                      -18.6   \n",
       "...                ...               ...                        ...   \n",
       "4995               2.9               282                       18.9   \n",
       "4996               1.0               217                       18.7   \n",
       "4997               1.2               402                       18.6   \n",
       "4998               1.5               157                       18.7   \n",
       "4999               1.0               188                       18.9   \n",
       "\n",
       "      Solar Radiation (MJ/m2)  Rainfall(mm)  Snowfall (cm) Seasons  \\\n",
       "0                        0.00           0.0            0.0  Winter   \n",
       "1                        0.00           0.0            0.0  Winter   \n",
       "2                        0.00           0.0            0.0  Winter   \n",
       "3                        0.00           0.0            0.0  Winter   \n",
       "4                        0.00           0.0            0.0  Winter   \n",
       "...                       ...           ...            ...     ...   \n",
       "4995                     0.00           0.0            0.0  Summer   \n",
       "4996                     0.00           0.5            0.0  Summer   \n",
       "4997                     0.00           0.0            0.0  Summer   \n",
       "4998                     0.00           0.0            0.0  Summer   \n",
       "4999                     0.06           0.0            0.0  Summer   \n",
       "\n",
       "         Holiday Functioning Day  Rented_Bike_Count_Value  \n",
       "0     No Holiday             Yes                      0.0  \n",
       "1     No Holiday             Yes                      0.0  \n",
       "2     No Holiday             Yes                      0.0  \n",
       "3     No Holiday             Yes                      0.0  \n",
       "4     No Holiday             Yes                      0.0  \n",
       "...          ...             ...                      ...  \n",
       "4995  No Holiday             Yes                      0.0  \n",
       "4996  No Holiday             Yes                      0.0  \n",
       "4997  No Holiday             Yes                      0.0  \n",
       "4998  No Holiday             Yes                      0.0  \n",
       "4999  No Holiday             Yes                      1.0  \n",
       "\n",
       "[5000 rows x 15 columns]"
      ]
     },
     "execution_count": 10,
     "metadata": {},
     "output_type": "execute_result"
    }
   ],
   "source": [
    "# We set the threshold to 1065.25, which is the 75th percentile for Rented Bike Count.\n",
    "# Every field with a bike count above 1065.25 will be labeled 1, \n",
    "# and rest will be labeled 0.\n",
    "# threshold = 1065.25\n",
    "bike_df[\"Rented_Bike_Count_Value\"] = (bike_df['Rented Bike Count'] > threshold).astype(float)\n",
    "bike_df.head(5000)"
   ]
  },
  {
   "cell_type": "markdown",
   "id": "39feb8ca",
   "metadata": {},
   "source": [
    "# DATA PRE PROCESSING"
   ]
  },
  {
   "cell_type": "code",
   "execution_count": 11,
   "id": "bd51409e",
   "metadata": {},
   "outputs": [],
   "source": [
    "# Add few variables (split the date to month, year,weekday and day)\n",
    "bike_df['Date']=pd.to_datetime(bike_df['Date'])\n",
    "from datetime import datetime\n",
    "import datetime as dt\n",
    "\n",
    "bike_df['Year']=bike_df['Date'].dt.year\n",
    "bike_df['Month']=bike_df['Date'].dt.month\n",
    "bike_df['Day']=bike_df['Date'].dt.day\n",
    "bike_df['DayName']=bike_df['Date'].dt.day_name()\n",
    "bike_df['Weekday'] = bike_df['DayName'].apply(lambda x : 1 if x=='Saturday' or x=='Sunday' else 0 )\n",
    "bike_df=bike_df.drop(columns=['Date','DayName','Year'],axis=1)"
   ]
  },
  {
   "cell_type": "code",
   "execution_count": 12,
   "id": "7a6f0ad0",
   "metadata": {},
   "outputs": [],
   "source": [
    "#Holiday, Functioning Day and Seasons need to have dummy variables  (object DType)\n",
    "bike_df = pd.get_dummies(bike_df, columns = ['Seasons',\t'Holiday',\t'Functioning Day'])"
   ]
  },
  {
   "cell_type": "code",
   "execution_count": 13,
   "id": "42a18fc4",
   "metadata": {},
   "outputs": [
    {
     "data": {
      "text/html": [
       "<div>\n",
       "<style scoped>\n",
       "    .dataframe tbody tr th:only-of-type {\n",
       "        vertical-align: middle;\n",
       "    }\n",
       "\n",
       "    .dataframe tbody tr th {\n",
       "        vertical-align: top;\n",
       "    }\n",
       "\n",
       "    .dataframe thead th {\n",
       "        text-align: right;\n",
       "    }\n",
       "</style>\n",
       "<table border=\"1\" class=\"dataframe\">\n",
       "  <thead>\n",
       "    <tr style=\"text-align: right;\">\n",
       "      <th></th>\n",
       "      <th>Rented Bike Count</th>\n",
       "      <th>Hour</th>\n",
       "      <th>Temperature(°C)</th>\n",
       "      <th>Humidity(%)</th>\n",
       "      <th>Wind speed (m/s)</th>\n",
       "      <th>Visibility (10m)</th>\n",
       "      <th>Dew point temperature(°C)</th>\n",
       "      <th>Solar Radiation (MJ/m2)</th>\n",
       "      <th>Rainfall(mm)</th>\n",
       "      <th>Snowfall (cm)</th>\n",
       "      <th>...</th>\n",
       "      <th>Day</th>\n",
       "      <th>Weekday</th>\n",
       "      <th>Seasons_Autumn</th>\n",
       "      <th>Seasons_Spring</th>\n",
       "      <th>Seasons_Summer</th>\n",
       "      <th>Seasons_Winter</th>\n",
       "      <th>Holiday_Holiday</th>\n",
       "      <th>Holiday_No Holiday</th>\n",
       "      <th>Functioning Day_No</th>\n",
       "      <th>Functioning Day_Yes</th>\n",
       "    </tr>\n",
       "  </thead>\n",
       "  <tbody>\n",
       "    <tr>\n",
       "      <th>0</th>\n",
       "      <td>254</td>\n",
       "      <td>0</td>\n",
       "      <td>-5.2</td>\n",
       "      <td>37</td>\n",
       "      <td>2.2</td>\n",
       "      <td>2000</td>\n",
       "      <td>-17.6</td>\n",
       "      <td>0.0</td>\n",
       "      <td>0.0</td>\n",
       "      <td>0.0</td>\n",
       "      <td>...</td>\n",
       "      <td>12</td>\n",
       "      <td>0</td>\n",
       "      <td>0</td>\n",
       "      <td>0</td>\n",
       "      <td>0</td>\n",
       "      <td>1</td>\n",
       "      <td>0</td>\n",
       "      <td>1</td>\n",
       "      <td>0</td>\n",
       "      <td>1</td>\n",
       "    </tr>\n",
       "    <tr>\n",
       "      <th>1</th>\n",
       "      <td>204</td>\n",
       "      <td>1</td>\n",
       "      <td>-5.5</td>\n",
       "      <td>38</td>\n",
       "      <td>0.8</td>\n",
       "      <td>2000</td>\n",
       "      <td>-17.6</td>\n",
       "      <td>0.0</td>\n",
       "      <td>0.0</td>\n",
       "      <td>0.0</td>\n",
       "      <td>...</td>\n",
       "      <td>12</td>\n",
       "      <td>0</td>\n",
       "      <td>0</td>\n",
       "      <td>0</td>\n",
       "      <td>0</td>\n",
       "      <td>1</td>\n",
       "      <td>0</td>\n",
       "      <td>1</td>\n",
       "      <td>0</td>\n",
       "      <td>1</td>\n",
       "    </tr>\n",
       "    <tr>\n",
       "      <th>2</th>\n",
       "      <td>173</td>\n",
       "      <td>2</td>\n",
       "      <td>-6.0</td>\n",
       "      <td>39</td>\n",
       "      <td>1.0</td>\n",
       "      <td>2000</td>\n",
       "      <td>-17.7</td>\n",
       "      <td>0.0</td>\n",
       "      <td>0.0</td>\n",
       "      <td>0.0</td>\n",
       "      <td>...</td>\n",
       "      <td>12</td>\n",
       "      <td>0</td>\n",
       "      <td>0</td>\n",
       "      <td>0</td>\n",
       "      <td>0</td>\n",
       "      <td>1</td>\n",
       "      <td>0</td>\n",
       "      <td>1</td>\n",
       "      <td>0</td>\n",
       "      <td>1</td>\n",
       "    </tr>\n",
       "    <tr>\n",
       "      <th>3</th>\n",
       "      <td>107</td>\n",
       "      <td>3</td>\n",
       "      <td>-6.2</td>\n",
       "      <td>40</td>\n",
       "      <td>0.9</td>\n",
       "      <td>2000</td>\n",
       "      <td>-17.6</td>\n",
       "      <td>0.0</td>\n",
       "      <td>0.0</td>\n",
       "      <td>0.0</td>\n",
       "      <td>...</td>\n",
       "      <td>12</td>\n",
       "      <td>0</td>\n",
       "      <td>0</td>\n",
       "      <td>0</td>\n",
       "      <td>0</td>\n",
       "      <td>1</td>\n",
       "      <td>0</td>\n",
       "      <td>1</td>\n",
       "      <td>0</td>\n",
       "      <td>1</td>\n",
       "    </tr>\n",
       "    <tr>\n",
       "      <th>4</th>\n",
       "      <td>78</td>\n",
       "      <td>4</td>\n",
       "      <td>-6.0</td>\n",
       "      <td>36</td>\n",
       "      <td>2.3</td>\n",
       "      <td>2000</td>\n",
       "      <td>-18.6</td>\n",
       "      <td>0.0</td>\n",
       "      <td>0.0</td>\n",
       "      <td>0.0</td>\n",
       "      <td>...</td>\n",
       "      <td>12</td>\n",
       "      <td>0</td>\n",
       "      <td>0</td>\n",
       "      <td>0</td>\n",
       "      <td>0</td>\n",
       "      <td>1</td>\n",
       "      <td>0</td>\n",
       "      <td>1</td>\n",
       "      <td>0</td>\n",
       "      <td>1</td>\n",
       "    </tr>\n",
       "  </tbody>\n",
       "</table>\n",
       "<p>5 rows × 22 columns</p>\n",
       "</div>"
      ],
      "text/plain": [
       "   Rented Bike Count  Hour  Temperature(°C)  Humidity(%)  Wind speed (m/s)  \\\n",
       "0                254     0             -5.2           37               2.2   \n",
       "1                204     1             -5.5           38               0.8   \n",
       "2                173     2             -6.0           39               1.0   \n",
       "3                107     3             -6.2           40               0.9   \n",
       "4                 78     4             -6.0           36               2.3   \n",
       "\n",
       "   Visibility (10m)  Dew point temperature(°C)  Solar Radiation (MJ/m2)  \\\n",
       "0              2000                      -17.6                      0.0   \n",
       "1              2000                      -17.6                      0.0   \n",
       "2              2000                      -17.7                      0.0   \n",
       "3              2000                      -17.6                      0.0   \n",
       "4              2000                      -18.6                      0.0   \n",
       "\n",
       "   Rainfall(mm)  Snowfall (cm)  ...  Day  Weekday  Seasons_Autumn  \\\n",
       "0           0.0            0.0  ...   12        0               0   \n",
       "1           0.0            0.0  ...   12        0               0   \n",
       "2           0.0            0.0  ...   12        0               0   \n",
       "3           0.0            0.0  ...   12        0               0   \n",
       "4           0.0            0.0  ...   12        0               0   \n",
       "\n",
       "   Seasons_Spring  Seasons_Summer  Seasons_Winter  Holiday_Holiday  \\\n",
       "0               0               0               1                0   \n",
       "1               0               0               1                0   \n",
       "2               0               0               1                0   \n",
       "3               0               0               1                0   \n",
       "4               0               0               1                0   \n",
       "\n",
       "   Holiday_No Holiday  Functioning Day_No  Functioning Day_Yes  \n",
       "0                   1                   0                    1  \n",
       "1                   1                   0                    1  \n",
       "2                   1                   0                    1  \n",
       "3                   1                   0                    1  \n",
       "4                   1                   0                    1  \n",
       "\n",
       "[5 rows x 22 columns]"
      ]
     },
     "execution_count": 13,
     "metadata": {},
     "output_type": "execute_result"
    }
   ],
   "source": [
    "bike_df.head()"
   ]
  },
  {
   "cell_type": "markdown",
   "id": "5512d1b8",
   "metadata": {},
   "source": [
    "# DECLARE FEATURE VECTOR AND TARGET VARIABLE"
   ]
  },
  {
   "cell_type": "code",
   "execution_count": 14,
   "id": "6a9c925c",
   "metadata": {},
   "outputs": [],
   "source": [
    "# Split the features in X and Y\n",
    "X = bike_df.drop(columns=['Rented_Bike_Count_Value','Rented Bike Count'], axis=1)\n",
    "y = bike_df['Rented_Bike_Count_Value']"
   ]
  },
  {
   "cell_type": "markdown",
   "id": "1a1441e8",
   "metadata": {},
   "source": [
    "# SPLIT DATA TO TRAINING AND TEST SET"
   ]
  },
  {
   "cell_type": "code",
   "execution_count": 15,
   "id": "e388fdcb",
   "metadata": {},
   "outputs": [
    {
     "name": "stdout",
     "output_type": "stream",
     "text": [
      "(6132, 20)\n",
      "(2628, 20)\n"
     ]
    }
   ],
   "source": [
    "#Create test and train data\n",
    "from sklearn.model_selection import train_test_split\n",
    "#split the data by percentage\n",
    "X_train, X_test, y_train, y_test = train_test_split(X,y, test_size=0.3, random_state=0)\n",
    "\n",
    "#checking the shape of X_train and X_test\n",
    "print(X_train.shape)\n",
    "print(X_test.shape)"
   ]
  },
  {
   "cell_type": "markdown",
   "id": "fd881d0b",
   "metadata": {},
   "source": [
    "# FEATURE SCALING"
   ]
  },
  {
   "cell_type": "code",
   "execution_count": 16,
   "id": "13a0553a",
   "metadata": {},
   "outputs": [],
   "source": [
    "cols = X_train.columns"
   ]
  },
  {
   "cell_type": "code",
   "execution_count": 17,
   "id": "d7b83f8e",
   "metadata": {},
   "outputs": [
    {
     "name": "stdout",
     "output_type": "stream",
     "text": [
      "------Data Standardization------\n"
     ]
    }
   ],
   "source": [
    "print(\"------Data Standardization------\")\n",
    "sc = StandardScaler()\n",
    "X_train = sc.fit_transform(X_train)\n",
    "X_test = sc.transform(X_test)"
   ]
  },
  {
   "cell_type": "code",
   "execution_count": 18,
   "id": "f9644a1c",
   "metadata": {},
   "outputs": [],
   "source": [
    "X_train = pd.DataFrame(X_train, columns=[cols])"
   ]
  },
  {
   "cell_type": "code",
   "execution_count": 19,
   "id": "48429887",
   "metadata": {},
   "outputs": [],
   "source": [
    "X_test = pd.DataFrame(X_test, columns=[cols])"
   ]
  },
  {
   "cell_type": "code",
   "execution_count": 20,
   "id": "232869c8",
   "metadata": {},
   "outputs": [
    {
     "data": {
      "text/html": [
       "<div>\n",
       "<style scoped>\n",
       "    .dataframe tbody tr th:only-of-type {\n",
       "        vertical-align: middle;\n",
       "    }\n",
       "\n",
       "    .dataframe tbody tr th {\n",
       "        vertical-align: top;\n",
       "    }\n",
       "\n",
       "    .dataframe thead tr th {\n",
       "        text-align: left;\n",
       "    }\n",
       "</style>\n",
       "<table border=\"1\" class=\"dataframe\">\n",
       "  <thead>\n",
       "    <tr>\n",
       "      <th></th>\n",
       "      <th>Hour</th>\n",
       "      <th>Temperature(°C)</th>\n",
       "      <th>Humidity(%)</th>\n",
       "      <th>Wind speed (m/s)</th>\n",
       "      <th>Visibility (10m)</th>\n",
       "      <th>Dew point temperature(°C)</th>\n",
       "      <th>Solar Radiation (MJ/m2)</th>\n",
       "      <th>Rainfall(mm)</th>\n",
       "      <th>Snowfall (cm)</th>\n",
       "      <th>Month</th>\n",
       "      <th>Day</th>\n",
       "      <th>Weekday</th>\n",
       "      <th>Seasons_Autumn</th>\n",
       "      <th>Seasons_Spring</th>\n",
       "      <th>Seasons_Summer</th>\n",
       "      <th>Seasons_Winter</th>\n",
       "      <th>Holiday_Holiday</th>\n",
       "      <th>Holiday_No Holiday</th>\n",
       "      <th>Functioning Day_No</th>\n",
       "      <th>Functioning Day_Yes</th>\n",
       "    </tr>\n",
       "  </thead>\n",
       "  <tbody>\n",
       "    <tr>\n",
       "      <th>count</th>\n",
       "      <td>6.132000e+03</td>\n",
       "      <td>6.132000e+03</td>\n",
       "      <td>6.132000e+03</td>\n",
       "      <td>6.132000e+03</td>\n",
       "      <td>6.132000e+03</td>\n",
       "      <td>6.132000e+03</td>\n",
       "      <td>6.132000e+03</td>\n",
       "      <td>6.132000e+03</td>\n",
       "      <td>6.132000e+03</td>\n",
       "      <td>6.132000e+03</td>\n",
       "      <td>6.132000e+03</td>\n",
       "      <td>6.132000e+03</td>\n",
       "      <td>6.132000e+03</td>\n",
       "      <td>6.132000e+03</td>\n",
       "      <td>6.132000e+03</td>\n",
       "      <td>6.132000e+03</td>\n",
       "      <td>6.132000e+03</td>\n",
       "      <td>6.132000e+03</td>\n",
       "      <td>6.132000e+03</td>\n",
       "      <td>6.132000e+03</td>\n",
       "    </tr>\n",
       "    <tr>\n",
       "      <th>mean</th>\n",
       "      <td>-7.234917e-17</td>\n",
       "      <td>-6.702618e-17</td>\n",
       "      <td>-1.211975e-16</td>\n",
       "      <td>6.257226e-17</td>\n",
       "      <td>-3.206104e-16</td>\n",
       "      <td>-5.117943e-17</td>\n",
       "      <td>-3.165186e-16</td>\n",
       "      <td>-2.736450e-16</td>\n",
       "      <td>-2.544623e-16</td>\n",
       "      <td>-2.109641e-16</td>\n",
       "      <td>-8.368315e-17</td>\n",
       "      <td>3.342257e-17</td>\n",
       "      <td>-5.454070e-16</td>\n",
       "      <td>-3.406712e-16</td>\n",
       "      <td>-3.779321e-16</td>\n",
       "      <td>4.058506e-16</td>\n",
       "      <td>-7.539269e-16</td>\n",
       "      <td>7.539269e-16</td>\n",
       "      <td>2.003543e-16</td>\n",
       "      <td>-6.535415e-16</td>\n",
       "    </tr>\n",
       "    <tr>\n",
       "      <th>std</th>\n",
       "      <td>1.000082e+00</td>\n",
       "      <td>1.000082e+00</td>\n",
       "      <td>1.000082e+00</td>\n",
       "      <td>1.000082e+00</td>\n",
       "      <td>1.000082e+00</td>\n",
       "      <td>1.000082e+00</td>\n",
       "      <td>1.000082e+00</td>\n",
       "      <td>1.000082e+00</td>\n",
       "      <td>1.000082e+00</td>\n",
       "      <td>1.000082e+00</td>\n",
       "      <td>1.000082e+00</td>\n",
       "      <td>1.000082e+00</td>\n",
       "      <td>1.000082e+00</td>\n",
       "      <td>1.000082e+00</td>\n",
       "      <td>1.000082e+00</td>\n",
       "      <td>1.000082e+00</td>\n",
       "      <td>1.000082e+00</td>\n",
       "      <td>1.000082e+00</td>\n",
       "      <td>1.000082e+00</td>\n",
       "      <td>1.000082e+00</td>\n",
       "    </tr>\n",
       "    <tr>\n",
       "      <th>min</th>\n",
       "      <td>-1.659334e+00</td>\n",
       "      <td>-2.533723e+00</td>\n",
       "      <td>-2.852222e+00</td>\n",
       "      <td>-1.653769e+00</td>\n",
       "      <td>-2.314733e+00</td>\n",
       "      <td>-2.643712e+00</td>\n",
       "      <td>-6.563217e-01</td>\n",
       "      <td>-1.258994e-01</td>\n",
       "      <td>-1.733208e-01</td>\n",
       "      <td>-1.607790e+00</td>\n",
       "      <td>-1.665353e+00</td>\n",
       "      <td>-6.354889e-01</td>\n",
       "      <td>-5.788567e-01</td>\n",
       "      <td>-5.811165e-01</td>\n",
       "      <td>-5.786057e-01</td>\n",
       "      <td>-5.708221e-01</td>\n",
       "      <td>-2.252103e-01</td>\n",
       "      <td>-4.440295e+00</td>\n",
       "      <td>-1.826665e-01</td>\n",
       "      <td>-5.474459e+00</td>\n",
       "    </tr>\n",
       "    <tr>\n",
       "      <th>25%</th>\n",
       "      <td>-9.364391e-01</td>\n",
       "      <td>-8.061881e-01</td>\n",
       "      <td>-7.873192e-01</td>\n",
       "      <td>-7.905332e-01</td>\n",
       "      <td>-8.106573e-01</td>\n",
       "      <td>-6.793708e-01</td>\n",
       "      <td>-6.563217e-01</td>\n",
       "      <td>-1.258994e-01</td>\n",
       "      <td>-1.733208e-01</td>\n",
       "      <td>-7.372153e-01</td>\n",
       "      <td>-8.695962e-01</td>\n",
       "      <td>-6.354889e-01</td>\n",
       "      <td>-5.788567e-01</td>\n",
       "      <td>-5.811165e-01</td>\n",
       "      <td>-5.786057e-01</td>\n",
       "      <td>-5.708221e-01</td>\n",
       "      <td>-2.252103e-01</td>\n",
       "      <td>2.252103e-01</td>\n",
       "      <td>-1.826665e-01</td>\n",
       "      <td>1.826665e-01</td>\n",
       "    </tr>\n",
       "    <tr>\n",
       "      <th>50%</th>\n",
       "      <td>7.561397e-02</td>\n",
       "      <td>7.009769e-02</td>\n",
       "      <td>-4.985388e-02</td>\n",
       "      <td>-2.150426e-01</td>\n",
       "      <td>4.410263e-01</td>\n",
       "      <td>7.732100e-02</td>\n",
       "      <td>-6.448790e-01</td>\n",
       "      <td>-1.258994e-01</td>\n",
       "      <td>-1.733208e-01</td>\n",
       "      <td>1.333594e-01</td>\n",
       "      <td>3.983973e-02</td>\n",
       "      <td>-6.354889e-01</td>\n",
       "      <td>-5.788567e-01</td>\n",
       "      <td>-5.811165e-01</td>\n",
       "      <td>-5.786057e-01</td>\n",
       "      <td>-5.708221e-01</td>\n",
       "      <td>-2.252103e-01</td>\n",
       "      <td>2.252103e-01</td>\n",
       "      <td>-1.826665e-01</td>\n",
       "      <td>1.826665e-01</td>\n",
       "    </tr>\n",
       "    <tr>\n",
       "      <th>75%</th>\n",
       "      <td>7.985090e-01</td>\n",
       "      <td>8.128542e-01</td>\n",
       "      <td>7.859402e-01</td>\n",
       "      <td>5.522783e-01</td>\n",
       "      <td>9.195024e-01</td>\n",
       "      <td>8.187261e-01</td>\n",
       "      <td>4.192940e-01</td>\n",
       "      <td>-1.258994e-01</td>\n",
       "      <td>-1.733208e-01</td>\n",
       "      <td>1.003934e+00</td>\n",
       "      <td>8.355961e-01</td>\n",
       "      <td>1.573592e+00</td>\n",
       "      <td>1.727543e+00</td>\n",
       "      <td>1.720825e+00</td>\n",
       "      <td>1.728293e+00</td>\n",
       "      <td>-5.708221e-01</td>\n",
       "      <td>-2.252103e-01</td>\n",
       "      <td>2.252103e-01</td>\n",
       "      <td>-1.826665e-01</td>\n",
       "      <td>1.826665e-01</td>\n",
       "    </tr>\n",
       "    <tr>\n",
       "      <th>max</th>\n",
       "      <td>1.665983e+00</td>\n",
       "      <td>2.206566e+00</td>\n",
       "      <td>1.965885e+00</td>\n",
       "      <td>5.443949e+00</td>\n",
       "      <td>9.195024e-01</td>\n",
       "      <td>1.728285e+00</td>\n",
       "      <td>3.371516e+00</td>\n",
       "      <td>3.057577e+01</td>\n",
       "      <td>2.028756e+01</td>\n",
       "      <td>1.584317e+00</td>\n",
       "      <td>1.745032e+00</td>\n",
       "      <td>1.573592e+00</td>\n",
       "      <td>1.727543e+00</td>\n",
       "      <td>1.720825e+00</td>\n",
       "      <td>1.728293e+00</td>\n",
       "      <td>1.751859e+00</td>\n",
       "      <td>4.440295e+00</td>\n",
       "      <td>2.252103e-01</td>\n",
       "      <td>5.474459e+00</td>\n",
       "      <td>1.826665e-01</td>\n",
       "    </tr>\n",
       "  </tbody>\n",
       "</table>\n",
       "</div>"
      ],
      "text/plain": [
       "               Hour Temperature(°C)   Humidity(%) Wind speed (m/s)  \\\n",
       "count  6.132000e+03    6.132000e+03  6.132000e+03     6.132000e+03   \n",
       "mean  -7.234917e-17   -6.702618e-17 -1.211975e-16     6.257226e-17   \n",
       "std    1.000082e+00    1.000082e+00  1.000082e+00     1.000082e+00   \n",
       "min   -1.659334e+00   -2.533723e+00 -2.852222e+00    -1.653769e+00   \n",
       "25%   -9.364391e-01   -8.061881e-01 -7.873192e-01    -7.905332e-01   \n",
       "50%    7.561397e-02    7.009769e-02 -4.985388e-02    -2.150426e-01   \n",
       "75%    7.985090e-01    8.128542e-01  7.859402e-01     5.522783e-01   \n",
       "max    1.665983e+00    2.206566e+00  1.965885e+00     5.443949e+00   \n",
       "\n",
       "      Visibility (10m) Dew point temperature(°C) Solar Radiation (MJ/m2)  \\\n",
       "count     6.132000e+03              6.132000e+03            6.132000e+03   \n",
       "mean     -3.206104e-16             -5.117943e-17           -3.165186e-16   \n",
       "std       1.000082e+00              1.000082e+00            1.000082e+00   \n",
       "min      -2.314733e+00             -2.643712e+00           -6.563217e-01   \n",
       "25%      -8.106573e-01             -6.793708e-01           -6.563217e-01   \n",
       "50%       4.410263e-01              7.732100e-02           -6.448790e-01   \n",
       "75%       9.195024e-01              8.187261e-01            4.192940e-01   \n",
       "max       9.195024e-01              1.728285e+00            3.371516e+00   \n",
       "\n",
       "       Rainfall(mm) Snowfall (cm)         Month           Day       Weekday  \\\n",
       "count  6.132000e+03  6.132000e+03  6.132000e+03  6.132000e+03  6.132000e+03   \n",
       "mean  -2.736450e-16 -2.544623e-16 -2.109641e-16 -8.368315e-17  3.342257e-17   \n",
       "std    1.000082e+00  1.000082e+00  1.000082e+00  1.000082e+00  1.000082e+00   \n",
       "min   -1.258994e-01 -1.733208e-01 -1.607790e+00 -1.665353e+00 -6.354889e-01   \n",
       "25%   -1.258994e-01 -1.733208e-01 -7.372153e-01 -8.695962e-01 -6.354889e-01   \n",
       "50%   -1.258994e-01 -1.733208e-01  1.333594e-01  3.983973e-02 -6.354889e-01   \n",
       "75%   -1.258994e-01 -1.733208e-01  1.003934e+00  8.355961e-01  1.573592e+00   \n",
       "max    3.057577e+01  2.028756e+01  1.584317e+00  1.745032e+00  1.573592e+00   \n",
       "\n",
       "      Seasons_Autumn Seasons_Spring Seasons_Summer Seasons_Winter  \\\n",
       "count   6.132000e+03   6.132000e+03   6.132000e+03   6.132000e+03   \n",
       "mean   -5.454070e-16  -3.406712e-16  -3.779321e-16   4.058506e-16   \n",
       "std     1.000082e+00   1.000082e+00   1.000082e+00   1.000082e+00   \n",
       "min    -5.788567e-01  -5.811165e-01  -5.786057e-01  -5.708221e-01   \n",
       "25%    -5.788567e-01  -5.811165e-01  -5.786057e-01  -5.708221e-01   \n",
       "50%    -5.788567e-01  -5.811165e-01  -5.786057e-01  -5.708221e-01   \n",
       "75%     1.727543e+00   1.720825e+00   1.728293e+00  -5.708221e-01   \n",
       "max     1.727543e+00   1.720825e+00   1.728293e+00   1.751859e+00   \n",
       "\n",
       "      Holiday_Holiday Holiday_No Holiday Functioning Day_No  \\\n",
       "count    6.132000e+03       6.132000e+03       6.132000e+03   \n",
       "mean    -7.539269e-16       7.539269e-16       2.003543e-16   \n",
       "std      1.000082e+00       1.000082e+00       1.000082e+00   \n",
       "min     -2.252103e-01      -4.440295e+00      -1.826665e-01   \n",
       "25%     -2.252103e-01       2.252103e-01      -1.826665e-01   \n",
       "50%     -2.252103e-01       2.252103e-01      -1.826665e-01   \n",
       "75%     -2.252103e-01       2.252103e-01      -1.826665e-01   \n",
       "max      4.440295e+00       2.252103e-01       5.474459e+00   \n",
       "\n",
       "      Functioning Day_Yes  \n",
       "count        6.132000e+03  \n",
       "mean        -6.535415e-16  \n",
       "std          1.000082e+00  \n",
       "min         -5.474459e+00  \n",
       "25%          1.826665e-01  \n",
       "50%          1.826665e-01  \n",
       "75%          1.826665e-01  \n",
       "max          1.826665e-01  "
      ]
     },
     "execution_count": 20,
     "metadata": {},
     "output_type": "execute_result"
    }
   ],
   "source": [
    "X_train.describe()"
   ]
  },
  {
   "cell_type": "markdown",
   "id": "5fce7420",
   "metadata": {},
   "source": [
    "# RUN SVM WITH DEFAULT PARAMETERS"
   ]
  },
  {
   "cell_type": "markdown",
   "id": "cf1c2db8",
   "metadata": {},
   "source": [
    "1. C = 1.0, kernel = rbf, gamma = auto"
   ]
  },
  {
   "cell_type": "code",
   "execution_count": 21,
   "id": "1f0dbe2e",
   "metadata": {},
   "outputs": [
    {
     "name": "stdout",
     "output_type": "stream",
     "text": [
      "Model accuracy score with default hyperparameters: 0.9075\n"
     ]
    }
   ],
   "source": [
    "# import SVC classifier\n",
    "from sklearn.svm import SVC\n",
    "# import metrics to check accuracy\n",
    "from sklearn.metrics import accuracy_score\n",
    "\n",
    "# instantiate classifier with default hyperparameters\n",
    "svclassifier=SVC(random_state = 0) \n",
    "\n",
    "# fit classifier to training set\n",
    "svclassifier.fit(X_train,y_train)\n",
    "\n",
    "# Making predictions on the test set\n",
    "y_pred=svclassifier.predict(X_test)\n",
    "accuracyscore_C1_train = svclassifier.score(X_train, y_train)\n",
    "accuracyscore_C1_test = svclassifier.score(X_test, y_test)\n",
    "# Accuracy score\n",
    "print('Model accuracy score with default hyperparameters: {0:0.4f}'. format(accuracy_score(y_test, y_pred)))"
   ]
  },
  {
   "cell_type": "code",
   "execution_count": 24,
   "id": "5b86d2e0",
   "metadata": {
    "collapsed": true
   },
   "outputs": [
    {
     "name": "stdout",
     "output_type": "stream",
     "text": [
      "[[1904   88]\n",
      " [ 155  481]]\n",
      "              precision    recall  f1-score   support\n",
      "\n",
      "         0.0       0.92      0.96      0.94      1992\n",
      "         1.0       0.85      0.76      0.80       636\n",
      "\n",
      "    accuracy                           0.91      2628\n",
      "   macro avg       0.89      0.86      0.87      2628\n",
      "weighted avg       0.91      0.91      0.91      2628\n",
      "\n"
     ]
    }
   ],
   "source": [
    "# Making the Confusion Matrix\n",
    "from sklearn.metrics import confusion_matrix,classification_report\n",
    "print(confusion_matrix(y_test,y_pred))\n",
    "print(classification_report(y_test,y_pred))"
   ]
  },
  {
   "cell_type": "markdown",
   "id": "6e2724ed",
   "metadata": {},
   "source": [
    "2. C = 100.0"
   ]
  },
  {
   "cell_type": "code",
   "execution_count": 21,
   "id": "74ca6215",
   "metadata": {},
   "outputs": [
    {
     "name": "stdout",
     "output_type": "stream",
     "text": [
      "Model accuracy score with default hyperparameters: 0.9243\n"
     ]
    }
   ],
   "source": [
    "# instantiate classifier with default hyperparameters\n",
    "svclassifier=SVC(kernel = 'rbf',C = 100.0) \n",
    "\n",
    "# fit classifier to training set\n",
    "svclassifier.fit(X_train,y_train)\n",
    "\n",
    "# Making predictions on the test set\n",
    "y_pred=svclassifier.predict(X_test)\n",
    "accuracyscore_C100_train = svclassifier.score(X_train, y_train)\n",
    "accuracyscore_C100_test = svclassifier.score(X_test, y_test)\n",
    "\n",
    "# Accuracy score\n",
    "print('Model accuracy score with default hyperparameters: {0:0.4f}'. format(accuracy_score(y_test, y_pred)))"
   ]
  },
  {
   "cell_type": "markdown",
   "id": "9966df29",
   "metadata": {},
   "source": [
    "3. C = 1000.0"
   ]
  },
  {
   "cell_type": "code",
   "execution_count": 22,
   "id": "b63dbd0a",
   "metadata": {},
   "outputs": [
    {
     "name": "stdout",
     "output_type": "stream",
     "text": [
      "Model accuracy score with default hyperparameters: 0.9189\n"
     ]
    }
   ],
   "source": [
    "# instantiate classifier with default hyperparameters\n",
    "svclassifier=SVC(C = 1000.0) \n",
    "\n",
    "# fit classifier to training set\n",
    "svclassifier.fit(X_train,y_train)\n",
    "\n",
    "# Making predictions on the test set\n",
    "y_pred=svclassifier.predict(X_test)\n",
    "accuracyscore_C1000_train = svclassifier.score(X_train, y_train)\n",
    "accuracyscore_C1000_test = svclassifier.score(X_test, y_test)\n",
    "# Accuracy score\n",
    "print('Model accuracy score with default hyperparameters: {0:0.4f}'. format(accuracy_score(y_test, y_pred)))"
   ]
  },
  {
   "cell_type": "markdown",
   "id": "fe76fcc8",
   "metadata": {},
   "source": [
    "We can see that accuracy score is highest for C = 100. Higher the C value, it indicates that the outliers are less"
   ]
  },
  {
   "cell_type": "code",
   "execution_count": 24,
   "id": "6a0464d8",
   "metadata": {},
   "outputs": [
    {
     "data": {
      "image/png": "[encoded data removed]",
      "text/plain": [
       "<Figure size 576x432 with 1 Axes>"
      ]
     },
     "metadata": {
      "needs_background": "light"
     },
     "output_type": "display_data"
    }
   ],
   "source": [
    "# Plotting Train and Test Accuracy for C parameter \n",
    "C = np.array([1, 100,1000])\n",
    "train_accuracy = [accuracyscore_C1_train,accuracyscore_C100_train,accuracyscore_C1000_train]\n",
    "test_accuracy = [accuracyscore_C1_test,accuracyscore_C100_test,accuracyscore_C1000_test]\n",
    "plt.figure(figsize=(8, 6))\n",
    "plt.plot(C, train_accuracy)\n",
    "plt.plot(C, test_accuracy)\n",
    "plt.xlabel('C')\n",
    "plt.ylabel('Accuracy')\n",
    "plt.title('rbf Kernel')\n",
    "plt.legend(['train accuracy','test accuracy'], loc='upper right')\n",
    "plt.show()"
   ]
  },
  {
   "cell_type": "markdown",
   "id": "e4ae4a27",
   "metadata": {},
   "source": [
    "# SVM LINEAR KERNEL"
   ]
  },
  {
   "cell_type": "markdown",
   "id": "616a16ea",
   "metadata": {},
   "source": [
    "1. Linear Kernel and C = 1.0"
   ]
  },
  {
   "cell_type": "code",
   "execution_count": 37,
   "id": "442c799c",
   "metadata": {},
   "outputs": [
    {
     "name": "stdout",
     "output_type": "stream",
     "text": [
      "Model accuracy score with linear kernel and C=1.0 : 0.8668\n"
     ]
    }
   ],
   "source": [
    "linear_svclassifier=SVC(kernel='linear', C=1.0) \n",
    "linear_svclassifier.fit(X_train,y_train)\n",
    "y_pred_test=linear_svclassifier.predict(X_test)\n",
    "accuracyscore_C1_train = linear_svclassifier.score(X_train, y_train)\n",
    "accuracyscore_C1_test = linear_svclassifier.score(X_test, y_test)\n",
    "# Accuracy score\n",
    "print('Model accuracy score with linear kernel and C=1.0 : {0:0.4f}'. format(accuracy_score(y_test, y_pred_test)))"
   ]
  },
  {
   "cell_type": "markdown",
   "id": "5c92b5ac",
   "metadata": {},
   "source": [
    "2. Linear Kernel and C = 100.0"
   ]
  },
  {
   "cell_type": "code",
   "execution_count": 38,
   "id": "a6965254",
   "metadata": {},
   "outputs": [
    {
     "name": "stdout",
     "output_type": "stream",
     "text": [
      "Model accuracy score with linear kernel and C=1.0 : 0.8657\n"
     ]
    }
   ],
   "source": [
    "linear_svclassifier=SVC(kernel='linear', C=100.0) \n",
    "linear_svclassifier.fit(X_train,y_train)\n",
    "y_pred_test=linear_svclassifier.predict(X_test)\n",
    "accuracyscore_C100_train = linear_svclassifier.score(X_train, y_train)\n",
    "accuracyscore_C100_test = linear_svclassifier.score(X_test, y_test)\n",
    "# Accuracy score\n",
    "print('Model accuracy score with linear kernel and C=1.0 : {0:0.4f}'. format(accuracy_score(y_test, y_pred_test)))"
   ]
  },
  {
   "cell_type": "markdown",
   "id": "afcd8539",
   "metadata": {},
   "source": [
    "3. Linear Kernel and C = 1000.0"
   ]
  },
  {
   "cell_type": "code",
   "execution_count": 39,
   "id": "6cd36af8",
   "metadata": {},
   "outputs": [
    {
     "name": "stdout",
     "output_type": "stream",
     "text": [
      "Model accuracy score with linear kernel and C=1.0 : 0.8668\n"
     ]
    }
   ],
   "source": [
    "linear_svclassifier=SVC(kernel='linear', C=1000.0) \n",
    "linear_svclassifier.fit(X_train,y_train)\n",
    "y_pred_test=linear_svclassifier.predict(X_test)\n",
    "accuracyscore_C1000_train = linear_svclassifier.score(X_train, y_train)\n",
    "accuracyscore_C1000_test = linear_svclassifier.score(X_test, y_test)\n",
    "\n",
    "# Accuracy score\n",
    "print('Model accuracy score with linear kernel and C=1.0 : {0:0.4f}'. format(accuracy_score(y_test, y_pred_test)))"
   ]
  },
  {
   "cell_type": "markdown",
   "id": "6718123c",
   "metadata": {},
   "source": [
    "C = 1.0 and C = 1000.0 gives higher accuracy that C = 100.0"
   ]
  },
  {
   "cell_type": "code",
   "execution_count": null,
   "id": "24cdfb1e",
   "metadata": {},
   "outputs": [],
   "source": [
    "y_pred_train = linear_svclassifier.predict(X_train)\n",
    "y_pred_train"
   ]
  },
  {
   "cell_type": "code",
   "execution_count": null,
   "id": "88edd2c3",
   "metadata": {},
   "outputs": [],
   "source": [
    "print('Training-set accuracy score: {0:0.4f}'. format(accuracy_score(y_train, y_pred_train)))"
   ]
  },
  {
   "cell_type": "code",
   "execution_count": 72,
   "id": "da57eb23",
   "metadata": {},
   "outputs": [
    {
     "name": "stdout",
     "output_type": "stream",
     "text": [
      "Training set score: 0.8599\n",
      "Test set score: 0.8668\n"
     ]
    }
   ],
   "source": [
    "print('Training set score: {:.4f}'.format(linear_svclassifier.score(X_train, y_train)))\n",
    "print('Test set score: {:.4f}'.format(linear_svclassifier.score(X_test, y_test)))"
   ]
  },
  {
   "cell_type": "markdown",
   "id": "c6083b8c",
   "metadata": {},
   "source": [
    "The train and test scores show that there is no underfitting or overfitting as the scores are almost same."
   ]
  },
  {
   "cell_type": "code",
   "execution_count": 28,
   "id": "b2e12408",
   "metadata": {},
   "outputs": [
    {
     "data": {
      "text/plain": [
       "0.0    1992\n",
       "1.0     636\n",
       "Name: Rented_Bike_Count_Value, dtype: int64"
      ]
     },
     "execution_count": 28,
     "metadata": {},
     "output_type": "execute_result"
    }
   ],
   "source": [
    "# We will check the Null Accuracy as this is the accuracy that predicts the most frequent class\n",
    "y_test.value_counts()"
   ]
  },
  {
   "cell_type": "code",
   "execution_count": 29,
   "id": "c45cf86b",
   "metadata": {},
   "outputs": [
    {
     "name": "stdout",
     "output_type": "stream",
     "text": [
      "Null accuracy score: 0.7580\n"
     ]
    }
   ],
   "source": [
    "null_accuracy = (1992/(1992+636))\n",
    "\n",
    "print('Null accuracy score: {0:0.4f}'. format(null_accuracy))"
   ]
  },
  {
   "cell_type": "markdown",
   "id": "3d838960",
   "metadata": {},
   "source": [
    "SVM Accuracy is better than Null Accuracy which shows that SVM classifier is better at classfying the labels"
   ]
  },
  {
   "cell_type": "code",
   "execution_count": 40,
   "id": "04934789",
   "metadata": {},
   "outputs": [
    {
     "data": {
      "image/png": "[encoded data removed]",
      "text/plain": [
       "<Figure size 576x432 with 1 Axes>"
      ]
     },
     "metadata": {
      "needs_background": "light"
     },
     "output_type": "display_data"
    }
   ],
   "source": [
    "# Plotting Train and Test Accuracy for C parameter \n",
    "C = np.array([1, 100,1000])\n",
    "train_accuracy = [accuracyscore_C1_train,accuracyscore_C100_train,accuracyscore_C1000_train]\n",
    "test_accuracy = [accuracyscore_C1_test,accuracyscore_C100_test,accuracyscore_C1000_test]\n",
    "plt.figure(figsize=(8, 6))\n",
    "plt.plot(C, train_accuracy)\n",
    "plt.plot(C, test_accuracy)\n",
    "plt.xlabel('C')\n",
    "plt.ylabel('Accuracy')\n",
    "plt.title('Linear Kernel')\n",
    "plt.legend(['train accuracy','test accuracy'], loc='upper right')\n",
    "plt.show()"
   ]
  },
  {
   "cell_type": "markdown",
   "id": "f397fce7",
   "metadata": {},
   "source": [
    "# SVM Polynomial Kernel "
   ]
  },
  {
   "cell_type": "markdown",
   "id": "d5b04b95",
   "metadata": {},
   "source": [
    "1. Polynomial Kernel and C = 1.0"
   ]
  },
  {
   "cell_type": "code",
   "execution_count": 42,
   "id": "be89f034",
   "metadata": {},
   "outputs": [
    {
     "name": "stdout",
     "output_type": "stream",
     "text": [
      "Model accuracy score with polynomial kernel and C=1.0 : 0.7789\n"
     ]
    }
   ],
   "source": [
    "poly_svclassifier=SVC(kernel='poly', C=1.0) \n",
    "poly_svclassifier.fit(X_train,y_train)\n",
    "y_pred_poly=poly_svclassifier.predict(X_test)\n",
    "accuracyscore_C1_train = poly_svclassifier.score(X_train, y_train)\n",
    "accuracyscore_C1_test = poly_svclassifier.score(X_test, y_test)\n",
    "\n",
    "print('Model accuracy score with polynomial kernel and C=1.0 : {0:0.4f}'. format(accuracy_score(y_pred_poly, y_pred)))"
   ]
  },
  {
   "cell_type": "markdown",
   "id": "62ef602c",
   "metadata": {},
   "source": [
    "2. Polynomial Kernel and C = 100.0"
   ]
  },
  {
   "cell_type": "code",
   "execution_count": 43,
   "id": "0731dbd4",
   "metadata": {},
   "outputs": [
    {
     "name": "stdout",
     "output_type": "stream",
     "text": [
      "Model accuracy score with polynomial kernel and C=1.0 : 0.9212\n"
     ]
    }
   ],
   "source": [
    "poly_svclassifier=SVC(kernel='poly', C=100.0) \n",
    "poly_svclassifier.fit(X_train,y_train)\n",
    "y_pred_poly=poly_svclassifier.predict(X_test)\n",
    "accuracyscore_C100_train = poly_svclassifier.score(X_train, y_train)\n",
    "accuracyscore_C100_test = poly_svclassifier.score(X_test, y_test)\n",
    "print('Model accuracy score with polynomial kernel and C=1.0 : {0:0.4f}'. format(accuracy_score(y_test, y_pred_poly)))"
   ]
  },
  {
   "cell_type": "markdown",
   "id": "865bc798",
   "metadata": {},
   "source": [
    "3. Polynomial Kernel and C = 1000.0"
   ]
  },
  {
   "cell_type": "code",
   "execution_count": 44,
   "id": "204df3ff",
   "metadata": {},
   "outputs": [
    {
     "name": "stdout",
     "output_type": "stream",
     "text": [
      "Model accuracy score with polynomial kernel and C=1.0 : 0.9186\n"
     ]
    }
   ],
   "source": [
    "poly_svclassifier=SVC(kernel='poly', C=1000.0) \n",
    "poly_svclassifier.fit(X_train,y_train)\n",
    "y_pred_poly=poly_svclassifier.predict(X_test)\n",
    "accuracyscore_C1000_train = poly_svclassifier.score(X_train, y_train)\n",
    "accuracyscore_C1000_test = poly_svclassifier.score(X_test, y_test)\n",
    "print('Model accuracy score with polynomial kernel and C=1.0 : {0:0.4f}'. format(accuracy_score(y_test, y_pred_poly)))"
   ]
  },
  {
   "cell_type": "markdown",
   "id": "3d0a2ff9",
   "metadata": {},
   "source": [
    "POLYNOMIAL model gives better result than LINEAR kernel"
   ]
  },
  {
   "cell_type": "code",
   "execution_count": 45,
   "id": "c751e5e4",
   "metadata": {},
   "outputs": [
    {
     "data": {
      "image/png": "[encoded data removed]",
      "text/plain": [
       "<Figure size 576x432 with 1 Axes>"
      ]
     },
     "metadata": {
      "needs_background": "light"
     },
     "output_type": "display_data"
    }
   ],
   "source": [
    "C = np.array([1, 100,1000])\n",
    "train_accuracy = [accuracyscore_C1_train,accuracyscore_C100_train,accuracyscore_C1000_train]\n",
    "test_accuracy = [accuracyscore_C1_test,accuracyscore_C100_test,accuracyscore_C1000_test]\n",
    "plt.figure(figsize=(8, 6))\n",
    "plt.plot(C, train_accuracy)\n",
    "plt.plot(C, test_accuracy)\n",
    "plt.xlabel('C')\n",
    "plt.ylabel('Accuracy')\n",
    "plt.title('Polynomial Kernel')\n",
    "plt.legend(['train accuracy','test accuracy'], loc='upper right')\n",
    "plt.show()"
   ]
  },
  {
   "cell_type": "markdown",
   "id": "471f1c4a",
   "metadata": {},
   "source": [
    "# SVM SIGMOID KERNEL"
   ]
  },
  {
   "cell_type": "markdown",
   "id": "242dd9cf",
   "metadata": {},
   "source": [
    "1. Sigmoid Kernel and C = 1.0"
   ]
  },
  {
   "cell_type": "code",
   "execution_count": 46,
   "id": "8ba924d1",
   "metadata": {},
   "outputs": [
    {
     "name": "stdout",
     "output_type": "stream",
     "text": [
      "Model accuracy score with polynomial kernel and C=1.0 : 0.7671\n"
     ]
    }
   ],
   "source": [
    "sigmoid_svclassifier=SVC(kernel='sigmoid', C=1.0) \n",
    "sigmoid_svclassifier.fit(X_train,y_train)\n",
    "y_pred=sigmoid_svclassifier.predict(X_test)\n",
    "accuracyscore_C1_train = sigmoid_svclassifier.score(X_train, y_train)\n",
    "accuracyscore_C1_test = sigmoid_svclassifier.score(X_test, y_test)\n",
    "print('Model accuracy score with polynomial kernel and C=1.0 : {0:0.4f}'. format(accuracy_score(y_test, y_pred)))"
   ]
  },
  {
   "cell_type": "markdown",
   "id": "0a7586b4",
   "metadata": {},
   "source": [
    "2. Sigmoid Kernel and C = 100.0"
   ]
  },
  {
   "cell_type": "code",
   "execution_count": 47,
   "id": "c60db784",
   "metadata": {},
   "outputs": [
    {
     "name": "stdout",
     "output_type": "stream",
     "text": [
      "Model accuracy score with polynomial kernel and C=1.0 : 0.7508\n"
     ]
    }
   ],
   "source": [
    "sigmoid_svclassifier=SVC(kernel='sigmoid', C=100.0) \n",
    "sigmoid_svclassifier.fit(X_train,y_train)\n",
    "y_pred=sigmoid_svclassifier.predict(X_test)\n",
    "accuracyscore_C100_train = sigmoid_svclassifier.score(X_train, y_train)\n",
    "accuracyscore_C100_test = sigmoid_svclassifier.score(X_test, y_test)\n",
    "print('Model accuracy score with polynomial kernel and C=1.0 : {0:0.4f}'. format(accuracy_score(y_test, y_pred)))"
   ]
  },
  {
   "cell_type": "markdown",
   "id": "a88da3d4",
   "metadata": {},
   "source": [
    "3. Sigmoid Kernel and C = 1000.0"
   ]
  },
  {
   "cell_type": "code",
   "execution_count": 48,
   "id": "29da1401",
   "metadata": {},
   "outputs": [
    {
     "name": "stdout",
     "output_type": "stream",
     "text": [
      "Model accuracy score with polynomial kernel and C=1.0 : 0.7511\n"
     ]
    }
   ],
   "source": [
    "sigmoid_svclassifier=SVC(kernel='sigmoid', C=1000.0) \n",
    "sigmoid_svclassifier.fit(X_train,y_train)\n",
    "y_pred=sigmoid_svclassifier.predict(X_test)\n",
    "accuracyscore_C1000_train = sigmoid_svclassifier.score(X_train, y_train)\n",
    "accuracyscore_C1000_test = sigmoid_svclassifier.score(X_test, y_test)\n",
    "print('Model accuracy score with polynomial kernel and C=1.0 : {0:0.4f}'. format(accuracy_score(y_test, y_pred)))"
   ]
  },
  {
   "cell_type": "markdown",
   "id": "c6da9d3c",
   "metadata": {},
   "source": [
    "SIGMOID kernel performs the poorest among the kernels"
   ]
  },
  {
   "cell_type": "code",
   "execution_count": 49,
   "id": "62b947a2",
   "metadata": {},
   "outputs": [
    {
     "data": {
      "image/png": "[encoded data removed]",
      "text/plain": [
       "<Figure size 576x432 with 1 Axes>"
      ]
     },
     "metadata": {
      "needs_background": "light"
     },
     "output_type": "display_data"
    }
   ],
   "source": [
    "C = np.array([1, 100,1000])\n",
    "train_accuracy = [accuracyscore_C1_train,accuracyscore_C100_train,accuracyscore_C1000_train]\n",
    "test_accuracy = [accuracyscore_C1_test,accuracyscore_C100_test,accuracyscore_C1000_test]\n",
    "plt.figure(figsize=(8, 6))\n",
    "plt.plot(C, train_accuracy)\n",
    "plt.plot(C, test_accuracy)\n",
    "plt.xlabel('C')\n",
    "plt.ylabel('Accuracy')\n",
    "plt.title('Sigmoid kernel')\n",
    "plt.legend(['train accuracy','test accuracy'], loc='upper right')\n",
    "plt.show()"
   ]
  },
  {
   "cell_type": "code",
   "execution_count": 36,
   "id": "d7fc6733",
   "metadata": {
    "scrolled": true
   },
   "outputs": [
    {
     "name": "stdout",
     "output_type": "stream",
     "text": [
      "ROC AUC : 0.8190\n"
     ]
    }
   ],
   "source": [
    "# compute ROC AUC\n",
    "\n",
    "from sklearn.metrics import roc_auc_score\n",
    "ROC_AUC = roc_auc_score(y_test, y_pred_test)\n",
    "print('ROC AUC : {:.4f}'.format(ROC_AUC))"
   ]
  },
  {
   "cell_type": "markdown",
   "id": "14ba30b6",
   "metadata": {},
   "source": [
    "GRAPHICAL PLOTS"
   ]
  },
  {
   "cell_type": "code",
   "execution_count": 19,
   "id": "15f834c1",
   "metadata": {},
   "outputs": [],
   "source": [
    "# Plot learning curves\n",
    "# plt.figure(figsize=(10,6))\n",
    "# plt.title(\"Normal kernel with C=0.1\", fontsize=18)\n",
    "# plt.scatter(X_train, c=y_train, s=50, cmap='cool')\n",
    "# plot_svc_decision_function(svclassifier)\n",
    "from sklearn.model_selection import learning_curve\n",
    "from sklearn.model_selection import ShuffleSplit\n",
    "from sklearn.svm import SVC\n",
    "\n",
    "def plot_learning_curve(estimator, title, X, y, ylim=None, cv=None,\n",
    "                        n_jobs=None, train_sizes=np.linspace(.1, 1.0, 5)):\n",
    "    plt.figure()\n",
    "    plt.title(title)\n",
    "    if ylim is not None:\n",
    "        plt.ylim(*ylim)\n",
    "    plt.xlabel(\"Training examples\")\n",
    "    plt.ylabel(\"Score\")\n",
    "    train_sizes, train_scores, test_scores = learning_curve(\n",
    "        estimator, X, y, cv=cv, n_jobs=n_jobs, train_sizes=train_sizes)\n",
    "    train_scores_mean = np.mean(train_scores, axis=1)\n",
    "    train_scores_std = np.std(train_scores, axis=1)\n",
    "    test_scores_mean = np.mean(test_scores, axis=1)\n",
    "    test_scores_std = np.std(test_scores, axis=1)\n",
    "    plt.grid()\n",
    "\n",
    "    plt.fill_between(train_sizes, train_scores_mean - train_scores_std,\n",
    "                     train_scores_mean + train_scores_std, alpha=0.1,\n",
    "                     color=\"r\")\n",
    "    plt.fill_between(train_sizes, test_scores_mean - test_scores_std,\n",
    "                     test_scores_mean + test_scores_std, alpha=0.1, color=\"g\")\n",
    "    plt.plot(train_sizes, train_scores_mean, 'o-', color=\"r\",\n",
    "             label=\"Training score\")\n",
    "    plt.plot(train_sizes, test_scores_mean, 'o-', color=\"g\",\n",
    "             label=\"Cross-validation score\")\n",
    "\n",
    "    plt.legend(loc=\"best\")\n",
    "    return plt"
   ]
  },
  {
   "cell_type": "markdown",
   "id": "4c580c39",
   "metadata": {},
   "source": [
    "1. rbf Score Vs Training examples"
   ]
  },
  {
   "cell_type": "code",
   "execution_count": 21,
   "id": "6117c754",
   "metadata": {},
   "outputs": [
    {
     "data": {
      "image/png": "[encoded data removed]",
      "text/plain": [
       "<Figure size 432x288 with 1 Axes>"
      ]
     },
     "metadata": {
      "needs_background": "light"
     },
     "output_type": "display_data"
    }
   ],
   "source": [
    "title = \"Learning Curves (SVM, rbf kernel,C = 100, $\\gamma=0.1$)\"\n",
    "# SVC is more expensive so we do a lower number of CV iterations:\n",
    "cv = ShuffleSplit(n_splits=10, test_size=0.2, random_state=0)\n",
    "estimator = SVC(C = 100.0, gamma=0.1)\n",
    "plot_learning_curve(estimator, title, X, y, cv=cv, n_jobs=4)\n",
    "\n",
    "plt.show()"
   ]
  },
  {
   "cell_type": "code",
   "execution_count": 22,
   "id": "f13151ea",
   "metadata": {},
   "outputs": [
    {
     "data": {
      "image/png": "[encoded data removed]",
      "text/plain": [
       "<Figure size 432x288 with 1 Axes>"
      ]
     },
     "metadata": {
      "needs_background": "light"
     },
     "output_type": "display_data"
    }
   ],
   "source": [
    "title = \"Learning Curves (SVM, rbf kernel,C = 100, $\\gamma=0.1$)\"\n",
    "# SVC is more expensive so we do a lower number of CV iterations:\n",
    "cv = ShuffleSplit(n_splits=10, test_size=0.2, random_state=0)\n",
    "estimator = SVC(C = 100.0, gamma=0.01)\n",
    "plot_learning_curve(estimator, title, X, y, cv=cv, n_jobs=4)\n",
    "\n",
    "plt.show()"
   ]
  },
  {
   "cell_type": "markdown",
   "id": "4cd0ad16",
   "metadata": {},
   "source": [
    "2. poly Score Vs Training Examples"
   ]
  },
  {
   "cell_type": "code",
   "execution_count": null,
   "id": "a83813b2",
   "metadata": {},
   "outputs": [],
   "source": [
    "title = \"Learning Curves (SVM, poly kernel,C = 100, $\\gamma=0.01$)\"\n",
    "# SVC is more expensive so we do a lower number of CV iterations:\n",
    "cv = ShuffleSplit(n_splits=5, test_size=0.2, random_state=0)\n",
    "estimator = SVC(kernel = 'poly',C = 100.0, gamma=0.1)\n",
    "plot_learning_curve(estimator, title, X, y, cv=cv, n_jobs=4)\n",
    "plt.show()"
   ]
  },
  {
   "cell_type": "code",
   "execution_count": 20,
   "id": "812faab9",
   "metadata": {},
   "outputs": [
    {
     "data": {
      "image/png": "[encoded data removed]",
      "text/plain": [
       "<Figure size 432x288 with 1 Axes>"
      ]
     },
     "metadata": {
      "needs_background": "light"
     },
     "output_type": "display_data"
    }
   ],
   "source": [
    "#Sigmoid Kernel\n",
    "title = \"Learning Curves (SVM, sigmoid kernel,C = 1, $\\gamma=0.1$)\"\n",
    "# SVC is more expensive so we do a lower number of CV iterations:\n",
    "cv = ShuffleSplit(n_splits=10, test_size=0.2, random_state=0)\n",
    "estimator = SVC(kernel = 'sigmoid',C = 1.0, gamma=0.1)\n",
    "plot_learning_curve(estimator, title, X, y, cv=cv, n_jobs=4) \n",
    "\n",
    "plt.show()"
   ]
  },
  {
   "cell_type": "code",
   "execution_count": 20,
   "id": "a106270c",
   "metadata": {},
   "outputs": [
    {
     "data": {
      "image/png": "[encoded data removed]",
      "text/plain": [
       "<Figure size 432x288 with 1 Axes>"
      ]
     },
     "metadata": {
      "needs_background": "light"
     },
     "output_type": "display_data"
    }
   ],
   "source": [
    "#Linear Kernel\n",
    "title = \"Learning Curves (SVM, linear kernel,C = 1)\"\n",
    "# SVC is more expensive so we do a lower number of CV iterations:\n",
    "cv = ShuffleSplit(n_splits=5, test_size=0.2, random_state=0)\n",
    "estimator = SVC(kernel = 'linear',C = 1.0)\n",
    "plot_learning_curve(estimator, title, X, y, cv=cv, n_jobs=4)\n",
    "plt.show()\n"
   ]
  },
  {
   "cell_type": "markdown",
   "id": "8a72aeb1",
   "metadata": {},
   "source": [
    "# CROSS VALIDATION - SVM"
   ]
  },
  {
   "cell_type": "code",
   "execution_count": 77,
   "id": "49b39de5",
   "metadata": {},
   "outputs": [],
   "source": [
    "def cross_validation (classifier):\n",
    "    from sklearn.model_selection import KFold\n",
    "    from sklearn.model_selection import cross_val_score\n",
    "    num_folds = 20\n",
    "    kfold_validation = KFold(n_splits=num_folds)\n",
    "    results = cross_val_score(classifier, X, y, cv = kfold_validation)\n",
    "    accuracy=np.mean(abs(results))\n",
    "    print('Average accuracy: ',accuracy)\n",
    "    print('Standard Deviation: ',results.std())"
   ]
  },
  {
   "cell_type": "markdown",
   "id": "a7708695",
   "metadata": {},
   "source": [
    "1. Cross Validation On SVM Model - Default"
   ]
  },
  {
   "cell_type": "code",
   "execution_count": 73,
   "id": "0ff4b33b",
   "metadata": {},
   "outputs": [
    {
     "name": "stdout",
     "output_type": "stream",
     "text": [
      "Average accuracy:  0.7880136986301369\n",
      "Standard Deviation:  0.14603067053082058\n"
     ]
    }
   ],
   "source": [
    "# 1. For SVC rbf Default = C = 100.0 [0.9243]\n",
    "cross_validation(svclassifier)"
   ]
  },
  {
   "cell_type": "markdown",
   "id": "66b2c363",
   "metadata": {},
   "source": [
    "2. Cross Validation of SVM Model - Poly"
   ]
  },
  {
   "cell_type": "code",
   "execution_count": 74,
   "id": "dd6793ac",
   "metadata": {
    "scrolled": true
   },
   "outputs": [
    {
     "name": "stdout",
     "output_type": "stream",
     "text": [
      "Average accuracy:  0.7925799086757991\n",
      "Standard Deviation:  0.13940436233858516\n"
     ]
    }
   ],
   "source": [
    "# For SVC Default = C = 100.0 [0.9212]\n",
    "cross_validation(poly_svclassifier)"
   ]
  },
  {
   "cell_type": "code",
   "execution_count": 75,
   "id": "eae0d036",
   "metadata": {},
   "outputs": [
    {
     "name": "stdout",
     "output_type": "stream",
     "text": [
      "Average accuracy:  0.6171232876712328\n",
      "Standard Deviation:  0.06513294892954431\n"
     ]
    }
   ],
   "source": [
    "# For Sigmoid at C = 1.0\n",
    "cross_validation(sigmoid_svclassifier)\n"
   ]
  },
  {
   "cell_type": "code",
   "execution_count": 76,
   "id": "bb1dbf23",
   "metadata": {},
   "outputs": [
    {
     "name": "stdout",
     "output_type": "stream",
     "text": [
      "Average accuracy:  0.7719178082191782\n",
      "Standard Deviation:  0.13864229270919484\n"
     ]
    }
   ],
   "source": [
    "# For linear\n",
    "cross_validation(linear_svclassifier)"
   ]
  },
  {
   "cell_type": "code",
   "execution_count": 78,
   "id": "b2e087ce",
   "metadata": {},
   "outputs": [
    {
     "name": "stdout",
     "output_type": "stream",
     "text": [
      "Average accuracy:  0.833675799086758\n",
      "Standard Deviation:  0.1159859484906868\n"
     ]
    }
   ],
   "source": [
    "# For linear for kFold 20\n",
    "cross_validation(linear_svclassifier)"
   ]
  },
  {
   "cell_type": "code",
   "execution_count": 1,
   "id": "57dc2eb9",
   "metadata": {
    "scrolled": true
   },
   "outputs": [
    {
     "data": {
      "text/plain": [
       "8"
      ]
     },
     "execution_count": 1,
     "metadata": {},
     "output_type": "execute_result"
    }
   ],
   "source": [
    "# CPU available\n",
    "import os\n",
    "n_cpu = os.cpu_count()\n",
    "n_cpu"
   ]
  },
  {
   "cell_type": "code",
   "execution_count": null,
   "id": "237219a5",
   "metadata": {},
   "outputs": [],
   "source": [
    "# CROSS VALIDATION - DEFAULT rbf"
   ]
  },
  {
   "cell_type": "code",
   "execution_count": null,
   "id": "7b756508",
   "metadata": {},
   "outputs": [],
   "source": [
    "#Ignore next 2 steps as computation is high and is taking time"
   ]
  },
  {
   "cell_type": "code",
   "execution_count": null,
   "id": "11bee70e",
   "metadata": {},
   "outputs": [],
   "source": [
    "# Checking Cross Validation for SVM using GridSearchCV\n",
    "from sklearn.svm import SVC\n",
    "from sklearn.model_selection import GridSearchCV\n",
    "# Define Function\n",
    "svc_kernel = SVC(random_state = 0, kernel = 'poly')\n",
    "\n",
    "#define a list of parameters\n",
    "param_svc_kernel = {'C':  [ 0.1, 1, 10, 100,1000]     ,\n",
    "                    'gamma':   [ 0.1,1]   } # C = 10,000 mimics hard-margin SVM\n",
    "\n",
    "#apply grid search\n",
    "grid_svc_kernel = GridSearchCV(svc_kernel, param_svc_kernel, cv = 5, n_jobs=2)\n",
    "grid_svc_kernel.fit(X_train, y_train)"
   ]
  },
  {
   "cell_type": "code",
   "execution_count": null,
   "id": "4deed105",
   "metadata": {},
   "outputs": [],
   "source": [
    "from sklearn.model_selection import KFold\n",
    "folds = KFold(n_splits= 5,shuffle = True, random_state = 4)\n",
    "param_svc_kernel = [{'C':  [ 1, 10, 100, 1000] ,'gamma':   [ 0.1,1]} ]\n",
    "\n",
    "# Checking Cross Validation for SVM using GridSearchCV\n",
    "from sklearn.svm import SVC\n",
    "from sklearn.model_selection import GridSearchCV\n",
    "# Define Function\n",
    "svc_kernel = SVC(kernel = \"poly\")\n",
    "\n",
    "#apply grid search\n",
    "grid_svc_kernel = GridSearchCV(estimator = svc_kernel, param_grid = param_svc_kernel, cv= folds, \n",
    "                              verbose = 1, return_train_score = True)\n",
    "grid_svc_kernel.fit(X_train, y_train)"
   ]
  },
  {
   "cell_type": "code",
   "execution_count": null,
   "id": "e0d8f0f5",
   "metadata": {},
   "outputs": [],
   "source": [
    "grid_svc_kernel.best_params_"
   ]
  },
  {
   "cell_type": "code",
   "execution_count": null,
   "id": "aca9a709",
   "metadata": {
    "scrolled": true
   },
   "outputs": [],
   "source": [
    "grid_svc_kernel.score(X_test, y_test)"
   ]
  },
  {
   "cell_type": "code",
   "execution_count": 64,
   "id": "5512e024",
   "metadata": {},
   "outputs": [],
   "source": [
    "# CROSS VALIDATION - rbf "
   ]
  },
  {
   "cell_type": "code",
   "execution_count": 22,
   "id": "4cf68435",
   "metadata": {},
   "outputs": [
    {
     "name": "stdout",
     "output_type": "stream",
     "text": [
      "Fitting 5 folds for each of 4 candidates, totalling 20 fits\n"
     ]
    },
    {
     "data": {
      "text/plain": [
       "GridSearchCV(cv=KFold(n_splits=5, random_state=4, shuffle=True),\n",
       "             estimator=SVC(), param_grid=[{'C': [1, 10, 100, 1000]}],\n",
       "             return_train_score=True, verbose=1)"
      ]
     },
     "execution_count": 22,
     "metadata": {},
     "output_type": "execute_result"
    }
   ],
   "source": [
    "# creating a kFold object with 5 splits\n",
    "from sklearn.model_selection import KFold\n",
    "folds = KFold(n_splits= 5,shuffle = True, random_state = 4)\n",
    "param_svc_kernel = [{'C':  [ 1, 10, 100, 1000] } ]\n",
    "\n",
    "# Checking Cross Validation for SVM using GridSearchCV\n",
    "from sklearn.svm import SVC\n",
    "from sklearn.model_selection import GridSearchCV\n",
    "# Define Function\n",
    "svc_kernel = SVC(kernel = \"rbf\")\n",
    "\n",
    "#apply grid search\n",
    "grid_svc_kernel = GridSearchCV(estimator = svc_kernel, param_grid = param_svc_kernel, cv= folds, \n",
    "                              verbose = 1, return_train_score = True)\n",
    "grid_svc_kernel.fit(X_train, y_train)"
   ]
  },
  {
   "cell_type": "code",
   "execution_count": 23,
   "id": "a08ca981",
   "metadata": {},
   "outputs": [
    {
     "data": {
      "text/plain": [
       "{'C': 100}"
      ]
     },
     "execution_count": 23,
     "metadata": {},
     "output_type": "execute_result"
    }
   ],
   "source": [
    "grid_svc_kernel.best_params_"
   ]
  },
  {
   "cell_type": "code",
   "execution_count": 24,
   "id": "e3e1b3ff",
   "metadata": {
    "scrolled": true
   },
   "outputs": [
    {
     "data": {
      "text/plain": [
       "0.9242770167427702"
      ]
     },
     "execution_count": 24,
     "metadata": {},
     "output_type": "execute_result"
    }
   ],
   "source": [
    "grid_svc_kernel.score(X_test, y_test)"
   ]
  },
  {
   "cell_type": "code",
   "execution_count": 23,
   "id": "e6aeb4a3",
   "metadata": {},
   "outputs": [],
   "source": [
    "# CROSS VALIDATION - Polynomial "
   ]
  },
  {
   "cell_type": "code",
   "execution_count": 24,
   "id": "380437a8",
   "metadata": {},
   "outputs": [
    {
     "name": "stdout",
     "output_type": "stream",
     "text": [
      "Fitting 5 folds for each of 4 candidates, totalling 20 fits\n"
     ]
    },
    {
     "data": {
      "text/plain": [
       "GridSearchCV(cv=KFold(n_splits=5, random_state=4, shuffle=True),\n",
       "             estimator=SVC(kernel='poly'),\n",
       "             param_grid=[{'C': [1, 10, 100, 1000]}], return_train_score=True,\n",
       "             verbose=1)"
      ]
     },
     "execution_count": 24,
     "metadata": {},
     "output_type": "execute_result"
    }
   ],
   "source": [
    "# creating a kFold object with 5 splits\n",
    "from sklearn.model_selection import KFold\n",
    "folds = KFold(n_splits= 5,shuffle = True, random_state = 4)\n",
    "param_svc_kernel = [{'C':  [ 1, 10, 100, 1000] } ]\n",
    "\n",
    "# Checking Cross Validation for SVM using GridSearchCV\n",
    "from sklearn.svm import SVC\n",
    "from sklearn.model_selection import GridSearchCV\n",
    "# Define Function\n",
    "svc_kernel = SVC(kernel = \"poly\")\n",
    "\n",
    "#apply grid search\n",
    "grid_svc_kernel = GridSearchCV(estimator = svc_kernel, param_grid = param_svc_kernel, cv= folds, \n",
    "                              verbose = 1, return_train_score = True)\n",
    "grid_svc_kernel.fit(X_train, y_train)"
   ]
  },
  {
   "cell_type": "code",
   "execution_count": 25,
   "id": "746b9ca8",
   "metadata": {},
   "outputs": [
    {
     "data": {
      "text/plain": [
       "{'C': 100}"
      ]
     },
     "execution_count": 25,
     "metadata": {},
     "output_type": "execute_result"
    }
   ],
   "source": [
    "grid_svc_kernel.best_params_"
   ]
  },
  {
   "cell_type": "code",
   "execution_count": 26,
   "id": "c0cc7da8",
   "metadata": {},
   "outputs": [
    {
     "data": {
      "text/plain": [
       "0.9212328767123288"
      ]
     },
     "execution_count": 26,
     "metadata": {},
     "output_type": "execute_result"
    }
   ],
   "source": [
    "grid_svc_kernel.score(X_test, y_test)"
   ]
  },
  {
   "cell_type": "code",
   "execution_count": 27,
   "id": "b80ebf71",
   "metadata": {},
   "outputs": [],
   "source": [
    "# CROSS VALIDATION - Sigmoid "
   ]
  },
  {
   "cell_type": "code",
   "execution_count": 28,
   "id": "74c426eb",
   "metadata": {},
   "outputs": [
    {
     "name": "stdout",
     "output_type": "stream",
     "text": [
      "Fitting 5 folds for each of 4 candidates, totalling 20 fits\n"
     ]
    },
    {
     "data": {
      "text/plain": [
       "GridSearchCV(cv=KFold(n_splits=5, random_state=4, shuffle=True),\n",
       "             estimator=SVC(kernel='sigmoid'),\n",
       "             param_grid=[{'C': [1, 10, 100, 1000]}], return_train_score=True,\n",
       "             verbose=1)"
      ]
     },
     "execution_count": 28,
     "metadata": {},
     "output_type": "execute_result"
    }
   ],
   "source": [
    "# creating a kFold object with 5 splits\n",
    "from sklearn.model_selection import KFold\n",
    "folds = KFold(n_splits= 5,shuffle = True, random_state = 4)\n",
    "param_svc_kernel = [{'C':  [ 1, 10, 100, 1000] } ]\n",
    "\n",
    "# Checking Cross Validation for SVM using GridSearchCV\n",
    "from sklearn.svm import SVC\n",
    "from sklearn.model_selection import GridSearchCV\n",
    "# Define Function\n",
    "svc_kernel = SVC(kernel = \"sigmoid\")\n",
    "\n",
    "#apply grid search\n",
    "grid_svc_kernel = GridSearchCV(estimator = svc_kernel, param_grid = param_svc_kernel, cv= folds, \n",
    "                              verbose = 1, return_train_score = True)\n",
    "grid_svc_kernel.fit(X_train, y_train)"
   ]
  },
  {
   "cell_type": "code",
   "execution_count": 29,
   "id": "7a954de0",
   "metadata": {},
   "outputs": [
    {
     "data": {
      "text/plain": [
       "{'C': 1}"
      ]
     },
     "execution_count": 29,
     "metadata": {},
     "output_type": "execute_result"
    }
   ],
   "source": [
    "grid_svc_kernel.best_params_"
   ]
  },
  {
   "cell_type": "code",
   "execution_count": 30,
   "id": "3d88b5aa",
   "metadata": {},
   "outputs": [
    {
     "data": {
      "text/plain": [
       "0.7671232876712328"
      ]
     },
     "execution_count": 30,
     "metadata": {},
     "output_type": "execute_result"
    }
   ],
   "source": [
    "grid_svc_kernel.score(X_test, y_test)"
   ]
  },
  {
   "cell_type": "code",
   "execution_count": null,
   "id": "73646fdc",
   "metadata": {},
   "outputs": [],
   "source": [
    "# CROSS VALIDATION - Linear "
   ]
  },
  {
   "cell_type": "code",
   "execution_count": 59,
   "id": "723e0931",
   "metadata": {},
   "outputs": [
    {
     "name": "stdout",
     "output_type": "stream",
     "text": [
      "Fitting 5 folds for each of 4 candidates, totalling 20 fits\n"
     ]
    },
    {
     "data": {
      "text/plain": [
       "GridSearchCV(cv=KFold(n_splits=5, random_state=4, shuffle=True),\n",
       "             estimator=SVC(kernel='linear'),\n",
       "             param_grid=[{'C': [1, 10, 100, 1000]}], return_train_score=True,\n",
       "             verbose=1)"
      ]
     },
     "execution_count": 59,
     "metadata": {},
     "output_type": "execute_result"
    }
   ],
   "source": [
    "# creating a kFold object with 5 splits\n",
    "from sklearn.model_selection import KFold\n",
    "folds = KFold(n_splits= 5,shuffle = True, random_state = 4)\n",
    "param_svc_kernel = [{'C':  [ 1, 10, 100, 1000] } ]\n",
    "\n",
    "# Checking Cross Validation for SVM using GridSearchCV\n",
    "from sklearn.svm import SVC\n",
    "from sklearn.model_selection import GridSearchCV\n",
    "# Define Function\n",
    "svc_kernel = SVC(kernel = \"linear\")\n",
    "\n",
    "#apply grid search\n",
    "grid_svc_kernel = GridSearchCV(estimator = svc_kernel, param_grid = param_svc_kernel, cv= folds, \n",
    "                              verbose = 1, return_train_score = True)\n",
    "grid_svc_kernel.fit(X_train, y_train)"
   ]
  },
  {
   "cell_type": "code",
   "execution_count": 60,
   "id": "797f1468",
   "metadata": {},
   "outputs": [
    {
     "data": {
      "text/plain": [
       "{'C': 1}"
      ]
     },
     "execution_count": 60,
     "metadata": {},
     "output_type": "execute_result"
    }
   ],
   "source": [
    "grid_svc_kernel.best_params_"
   ]
  },
  {
   "cell_type": "code",
   "execution_count": 61,
   "id": "164098bf",
   "metadata": {},
   "outputs": [
    {
     "data": {
      "text/plain": [
       "0.8668188736681888"
      ]
     },
     "execution_count": 61,
     "metadata": {},
     "output_type": "execute_result"
    }
   ],
   "source": [
    "grid_svc_kernel.score(X_test, y_test)"
   ]
  },
  {
   "cell_type": "markdown",
   "id": "0705a74a",
   "metadata": {},
   "source": [
    "# DECISION TREE "
   ]
  },
  {
   "cell_type": "markdown",
   "id": "9ea4f482",
   "metadata": {},
   "source": [
    "# 1. Unpruned Tree"
   ]
  },
  {
   "cell_type": "code",
   "execution_count": 31,
   "id": "e85756c2",
   "metadata": {},
   "outputs": [
    {
     "name": "stdout",
     "output_type": "stream",
     "text": [
      "Training accuracy score - Default Tree :1.0\n",
      "Test accuracy score - Default Tree :0.921613394216134\n"
     ]
    }
   ],
   "source": [
    "# import DecisionTreeClassifier\n",
    "from sklearn.tree import DecisionTreeClassifier\n",
    "classifier = DecisionTreeClassifier(random_state=0)\n",
    "classifier.fit(X_train, y_train)\n",
    "y_train_predict = classifier.predict(X_train)\n",
    "y_test_predict = classifier.predict(X_test)\n",
    "\n",
    "from sklearn.metrics import accuracy_score\n",
    "print(f'Training accuracy score - Default Tree :{accuracy_score(y_train_predict, y_train)}')\n",
    "print(f'Test accuracy score - Default Tree :{accuracy_score(y_test_predict, y_test)}')"
   ]
  },
  {
   "cell_type": "markdown",
   "id": "6dbdf3d1",
   "metadata": {},
   "source": [
    "Here, we can see that model is overfitted with unpruned decision tree.The Training and testing score have difference"
   ]
  },
  {
   "cell_type": "markdown",
   "id": "14c1d94a",
   "metadata": {},
   "source": [
    "# 2. Decision Tree With GINI Index"
   ]
  },
  {
   "cell_type": "code",
   "execution_count": 32,
   "id": "fb8c45bf",
   "metadata": {},
   "outputs": [
    {
     "name": "stdout",
     "output_type": "stream",
     "text": [
      "Training accuracy score - Default Tree With GINI :0.9223744292237442\n",
      "Test accuracy score - Default Tree With GINI :0.9140030441400304\n"
     ]
    }
   ],
   "source": [
    "classifier_gini = DecisionTreeClassifier(criterion='gini', max_depth=6, random_state=0)\n",
    "classifier_gini.fit(X_train, y_train)\n",
    "y_train_predict_gini = classifier_gini.predict(X_train)\n",
    "y_test_predict_gini = classifier_gini.predict(X_test)\n",
    "\n",
    "from sklearn.metrics import accuracy_score\n",
    "print(f'Training accuracy score - Default Tree With GINI :{accuracy_score(y_train_predict_gini, y_train)}')\n",
    "print(f'Test accuracy score - Default Tree With GINI :{accuracy_score(y_test_predict_gini, y_test)}')"
   ]
  },
  {
   "cell_type": "markdown",
   "id": "8c36c39c",
   "metadata": {},
   "source": [
    "Check for overfitting and underfitting"
   ]
  },
  {
   "cell_type": "code",
   "execution_count": 33,
   "id": "a0c3722f",
   "metadata": {},
   "outputs": [
    {
     "name": "stdout",
     "output_type": "stream",
     "text": [
      "Training set score: 0.9224\n",
      "Test set score: 0.9140\n"
     ]
    }
   ],
   "source": [
    "# Scores of training and test \n",
    "print('Training set score: {:.4f}'.format(classifier_gini.score(X_train, y_train)))\n",
    "print('Test set score: {:.4f}'.format(classifier_gini.score(X_test, y_test)))"
   ]
  },
  {
   "cell_type": "markdown",
   "id": "ae706eda",
   "metadata": {},
   "source": [
    "The training-set accuracy score is 0.8994 while the test-set accuracy to be 0.9022. These two values are quite comparable. So, there is no sign of overfitting."
   ]
  },
  {
   "cell_type": "markdown",
   "id": "de797800",
   "metadata": {},
   "source": [
    "# 3. Decision Tree with Entropy"
   ]
  },
  {
   "cell_type": "code",
   "execution_count": 34,
   "id": "8754d43b",
   "metadata": {},
   "outputs": [
    {
     "name": "stdout",
     "output_type": "stream",
     "text": [
      "Training accuracy score - Default Tree With Entropy :0.878016960208741\n",
      "Test accuracy score - Default Tree With Entropy :0.8888888888888888\n"
     ]
    }
   ],
   "source": [
    "classifier_entropy = DecisionTreeClassifier(criterion='entropy', max_depth=6, random_state=0)\n",
    "classifier_entropy.fit(X_train, y_train)\n",
    "y_train_predict_entropy = classifier_entropy.predict(X_train)\n",
    "y_test_predict_entropy = classifier_entropy.predict(X_test)\n",
    "\n",
    "from sklearn.metrics import accuracy_score\n",
    "print(f'Training accuracy score - Default Tree With Entropy :{accuracy_score(y_train_predict_entropy, y_train)}')\n",
    "print(f'Test accuracy score - Default Tree With Entropy :{accuracy_score(y_test_predict_entropy, y_test)}')"
   ]
  },
  {
   "cell_type": "markdown",
   "id": "85fd7849",
   "metadata": {},
   "source": [
    "Check for overfitting or underfitting"
   ]
  },
  {
   "cell_type": "code",
   "execution_count": 35,
   "id": "d538b56a",
   "metadata": {},
   "outputs": [
    {
     "name": "stdout",
     "output_type": "stream",
     "text": [
      "Training set score: 0.8780\n",
      "Test set score: 0.8889\n"
     ]
    }
   ],
   "source": [
    "# Scores of training and test \n",
    "print('Training set score: {:.4f}'.format(classifier_entropy.score(X_train, y_train)))\n",
    "print('Test set score: {:.4f}'.format(classifier_entropy.score(X_test, y_test)))"
   ]
  },
  {
   "cell_type": "markdown",
   "id": "7164b5a4",
   "metadata": {},
   "source": [
    "We can see that the training-set score and test-set score is same as above. The training-set accuracy score is 0.9185 while the test-set accuracy to be 0.9189. These two values are quite comparable. So, there is no sign of overfitting.\n",
    "\n",
    "Now, based on the above analysis we can conclude that our classification model accuracy is very good. Model will do a good job in prediction.We will now see if there are any errors"
   ]
  },
  {
   "cell_type": "markdown",
   "id": "a6f38cd5",
   "metadata": {},
   "source": [
    "# 4. Decision Tree - Post Pruning"
   ]
  },
  {
   "cell_type": "code",
   "execution_count": 36,
   "id": "752d3576",
   "metadata": {
    "collapsed": true
   },
   "outputs": [
    {
     "name": "stdout",
     "output_type": "stream",
     "text": [
      "[0.         0.00010641 0.00010712 0.00010729 0.00010786 0.00010853\n",
      " 0.00010926 0.00012868 0.00012871 0.00014269 0.00014269 0.00014269\n",
      " 0.00014496 0.00014496 0.00014496 0.00014677 0.00015014 0.00015053\n",
      " 0.00015053 0.00015053 0.00015143 0.00015221 0.00015221 0.00015289\n",
      " 0.00015349 0.00015531 0.00015531 0.00015599 0.00015704 0.00015737\n",
      " 0.0001579  0.00015798 0.00015814 0.00015842 0.00015961 0.00016022\n",
      " 0.00016123 0.00016125 0.00016147 0.00016308 0.00016308 0.00016457\n",
      " 0.00017292 0.00018373 0.00018706 0.00018845 0.00019151 0.00019273\n",
      " 0.00019932 0.00020837 0.00020961 0.00021215 0.00021422 0.00021744\n",
      " 0.00021744 0.00021744 0.00021744 0.00021744 0.00021744 0.00021744\n",
      " 0.00021744 0.00021744 0.00021744 0.00021744 0.00021744 0.00021744\n",
      " 0.00021797 0.00023193 0.00023815 0.00024462 0.00024462 0.00024462\n",
      " 0.00024462 0.00024462 0.00024462 0.00024462 0.00024462 0.00024462\n",
      " 0.0002485  0.00025368 0.00025382 0.00025481 0.00026093 0.00026093\n",
      " 0.00026093 0.00026093 0.00026093 0.00026093 0.0002631  0.00026686\n",
      " 0.00026686 0.00026762 0.00026867 0.00027037 0.0002718  0.0002718\n",
      " 0.0002718  0.0002718  0.0002718  0.0002718  0.0002718  0.00027427\n",
      " 0.00027598 0.00027956 0.00028267 0.00028267 0.00028403 0.00028483\n",
      " 0.00028539 0.00028539 0.0002855  0.0002875  0.00028992 0.00028992\n",
      " 0.00028992 0.00028992 0.00029218 0.00029354 0.00029354 0.00029354\n",
      " 0.00029354 0.00029422 0.00029487 0.00029651 0.00029767 0.00029924\n",
      " 0.00029924 0.00030804 0.00030886 0.00031146 0.0003122  0.00031334\n",
      " 0.00031627 0.00032023 0.00032171 0.00032455 0.00033474 0.00034247\n",
      " 0.00034247 0.0003479  0.00036693 0.00036785 0.00037004 0.00037055\n",
      " 0.00037275 0.00039139 0.00039139 0.00039139 0.00039139 0.00039139\n",
      " 0.00039139 0.00039602 0.00039954 0.00039954 0.00039954 0.00040028\n",
      " 0.00040143 0.00040983 0.00041786 0.00042052 0.00043259 0.00043488\n",
      " 0.00044031 0.00044031 0.00046381 0.000467   0.00047    0.00047262\n",
      " 0.00047485 0.00047676 0.00048034 0.00048532 0.00050454 0.00050805\n",
      " 0.0005083  0.00051311 0.00051465 0.0005218  0.00053749 0.00054989\n",
      " 0.00055381 0.00056001 0.00056703 0.00056963 0.00057047 0.00057361\n",
      " 0.00057803 0.00057984 0.0005848  0.00059215 0.00062653 0.00062799\n",
      " 0.00065918 0.00070749 0.00073989 0.00075172 0.00075527 0.00078909\n",
      " 0.00079837 0.00081342 0.00087552 0.00089933 0.00092584 0.00094901\n",
      " 0.000994   0.00103998 0.00116485 0.0011854  0.00120048 0.00121104\n",
      " 0.00134755 0.00159107 0.00159871 0.00168022 0.00188422 0.00247147\n",
      " 0.00272272 0.00283534 0.00305913 0.00341824 0.00394576 0.00427408\n",
      " 0.00510278 0.00575852 0.00587099 0.00855266 0.01023516 0.01277486\n",
      " 0.01348724 0.01648356 0.05651    0.06682292]\n"
     ]
    }
   ],
   "source": [
    "path = classifier.cost_complexity_pruning_path(X_train, y_train)\n",
    "ccp_alphas, impurities = path.ccp_alphas, path.impurities\n",
    "print(ccp_alphas)"
   ]
  },
  {
   "cell_type": "code",
   "execution_count": 37,
   "id": "713d68c7",
   "metadata": {},
   "outputs": [],
   "source": [
    "# We will append the model to our list for each alpha\n",
    "classifiers = []\n",
    "for ccp_alpha in ccp_alphas:\n",
    "    clf = DecisionTreeClassifier(random_state = 0, ccp_alpha = ccp_alpha)\n",
    "    clf.fit(X_train,y_train)\n",
    "    classifiers.append(clf)\n"
   ]
  },
  {
   "cell_type": "code",
   "execution_count": 38,
   "id": "d3636cf9",
   "metadata": {
    "scrolled": false
   },
   "outputs": [
    {
     "data": {
      "image/png": "[encoded data removed]",
      "text/plain": [
       "<Figure size 432x288 with 1 Axes>"
      ]
     },
     "metadata": {
      "needs_background": "light"
     },
     "output_type": "display_data"
    }
   ],
   "source": [
    "train_data = []\n",
    "test_data = []\n",
    "for c in classifiers:\n",
    "    y_train_predict = c.predict(X_train)\n",
    "    y_test_predict = c.predict(X_test)\n",
    "    train_data.append(accuracy_score(y_train_predict,y_train))\n",
    "    test_data.append(accuracy_score(y_test_predict,y_test))\n",
    "\n",
    "plt.scatter(ccp_alphas, train_data)\n",
    "plt.scatter(ccp_alphas, test_data)\n",
    "plt.plot(ccp_alphas, train_data, label= 'Train Accuracy', drawstyle = 'steps-post')\n",
    "plt.plot(ccp_alphas, test_data, label= 'Test Accuracy', drawstyle = 'steps-post')\n",
    "plt.legend()\n",
    "plt.title('Accuracy Vs Alpha')\n",
    "plt.show()"
   ]
  },
  {
   "cell_type": "markdown",
   "id": "f95ac682",
   "metadata": {},
   "source": [
    "We will choose 0.002 as ccp_alpha as we get the maximum accuracy here. The Train accuracy is also good."
   ]
  },
  {
   "cell_type": "code",
   "execution_count": 39,
   "id": "f1358079",
   "metadata": {
    "scrolled": true
   },
   "outputs": [
    {
     "name": "stdout",
     "output_type": "stream",
     "text": [
      "Training accuracy score - Decision Tree - Post Pruning :0.927429876060013\n",
      "Test accuracy score - Decision Tree - Post Pruning :0.9334094368340944\n"
     ]
    }
   ],
   "source": [
    "classifier_postpruning = DecisionTreeClassifier(criterion='entropy', ccp_alpha = 0.002)\n",
    "classifier_postpruning.fit(X_train, y_train)\n",
    "y_train_predict_postpruning = classifier_postpruning.predict(X_train)\n",
    "y_test_predict_postpruning = classifier_postpruning.predict(X_test)\n",
    "\n",
    "from sklearn.metrics import accuracy_score\n",
    "print(f'Training accuracy score - Decision Tree - Post Pruning :{accuracy_score(y_train_predict_postpruning, y_train)}')\n",
    "print(f'Test accuracy score - Decision Tree - Post Pruning :{accuracy_score(y_test_predict_postpruning, y_test)}')"
   ]
  },
  {
   "cell_type": "markdown",
   "id": "365b2563",
   "metadata": {},
   "source": [
    "The accuracy score for default scenario is checked"
   ]
  },
  {
   "cell_type": "code",
   "execution_count": 58,
   "id": "e6cb091c",
   "metadata": {},
   "outputs": [
    {
     "name": "stdout",
     "output_type": "stream",
     "text": [
      "Training accuracy score - Default Tree With GINI :1.0\n",
      "Test accuracy score - Default Tree With GINI :0.921613394216134\n"
     ]
    }
   ],
   "source": [
    "classifier_gini = DecisionTreeClassifier(criterion='gini',random_state=0)\n",
    "classifier_gini.fit(X_train, y_train)\n",
    "y_train_predict_gini = classifier_gini.predict(X_train)\n",
    "y_test_predict_gini = classifier_gini.predict(X_test)\n",
    "\n",
    "from sklearn.metrics import accuracy_score\n",
    "print(f'Training accuracy score - Default Tree With GINI :{accuracy_score(y_train_predict_gini, y_train)}')\n",
    "print(f'Test accuracy score - Default Tree With GINI :{accuracy_score(y_test_predict_gini, y_test)}')"
   ]
  },
  {
   "cell_type": "markdown",
   "id": "d70052e2",
   "metadata": {},
   "source": [
    "# CROSS VALIDATION - DECISION TREE "
   ]
  },
  {
   "cell_type": "code",
   "execution_count": 75,
   "id": "7fb9a0dc",
   "metadata": {},
   "outputs": [
    {
     "name": "stdout",
     "output_type": "stream",
     "text": [
      "Average accuracy:  0.8534246575342467\n",
      "Standard Deviation:  0.08669367960060402\n"
     ]
    }
   ],
   "source": [
    "# Classifier - Unpruned Decision Tree\n",
    "cross_validation(classifier)"
   ]
  },
  {
   "cell_type": "code",
   "execution_count": 76,
   "id": "aed004c3",
   "metadata": {
    "scrolled": true
   },
   "outputs": [
    {
     "name": "stdout",
     "output_type": "stream",
     "text": [
      "Average accuracy:  0.8479452054794521\n",
      "Standard Deviation:  0.10468702517866343\n"
     ]
    }
   ],
   "source": [
    "# Classifier - Decision Tree - GINI\n",
    "cross_validation(classifier_gini)"
   ]
  },
  {
   "cell_type": "code",
   "execution_count": 77,
   "id": "8a32344a",
   "metadata": {
    "scrolled": true
   },
   "outputs": [
    {
     "name": "stdout",
     "output_type": "stream",
     "text": [
      "Average accuracy:  0.8739726027397261\n",
      "Standard Deviation:  0.08131380385236732\n"
     ]
    }
   ],
   "source": [
    "# Classifier - Decision Tree - Entropy\n",
    "cross_validation(classifier_entropy)"
   ]
  },
  {
   "cell_type": "code",
   "execution_count": 79,
   "id": "8d33e0f2",
   "metadata": {
    "scrolled": false
   },
   "outputs": [
    {
     "name": "stdout",
     "output_type": "stream",
     "text": [
      "Average accuracy:  0.8667808219178081\n",
      "Standard Deviation:  0.09965308823842159\n"
     ]
    }
   ],
   "source": [
    "# Classifier - Decision Tree - Post Pruned\n",
    "cross_validation(classifier_postpruning)"
   ]
  },
  {
   "cell_type": "markdown",
   "id": "6118ded1",
   "metadata": {},
   "source": [
    "CROSS VALIDATION USING GridSearchCV\n",
    "\n",
    "1. Unpruned Tree"
   ]
  },
  {
   "cell_type": "code",
   "execution_count": 41,
   "id": "652e33d5",
   "metadata": {},
   "outputs": [
    {
     "data": {
      "text/plain": [
       "GridSearchCV(estimator=DecisionTreeClassifier(random_state=0),\n",
       "             param_grid={'max_depth': range(1, 10),\n",
       "                         'max_leaf_nodes': range(2, 11),\n",
       "                         'min_samples_split': range(2, 11)})"
      ]
     },
     "execution_count": 41,
     "metadata": {},
     "output_type": "execute_result"
    }
   ],
   "source": [
    "# Unpruned Tree\n",
    "# GridSearch + CV\n",
    "from sklearn.model_selection import GridSearchCV\n",
    "\n",
    "# estimator\n",
    "opt_tree = DecisionTreeClassifier(random_state = 0) \n",
    "##  random state is set for all models (hyperparameter specifications)\n",
    "\n",
    "# hyperparameter setting\n",
    "dt_params = {'max_depth':  range(1,10) ,\n",
    "             'min_samples_split':   range(2,11),\n",
    "             'max_leaf_nodes':    range(2,11)   }\n",
    "\n",
    "\n",
    "# gridsearch function\n",
    "grid_tree = GridSearchCV(opt_tree, dt_params)\n",
    "\n",
    "grid_tree.fit(X_train, y_train)"
   ]
  },
  {
   "cell_type": "code",
   "execution_count": 42,
   "id": "bfd3d84f",
   "metadata": {},
   "outputs": [
    {
     "data": {
      "text/plain": [
       "{'max_depth': 6, 'max_leaf_nodes': 10, 'min_samples_split': 2}"
      ]
     },
     "execution_count": 42,
     "metadata": {},
     "output_type": "execute_result"
    }
   ],
   "source": [
    "# Report the best hyperparameters chosen\n",
    "grid_tree.best_params_"
   ]
  },
  {
   "cell_type": "code",
   "execution_count": 43,
   "id": "b512b5b5",
   "metadata": {},
   "outputs": [
    {
     "data": {
      "text/plain": [
       "0.8711646996414284"
      ]
     },
     "execution_count": 43,
     "metadata": {},
     "output_type": "execute_result"
    }
   ],
   "source": [
    "grid_tree.best_score_"
   ]
  },
  {
   "cell_type": "markdown",
   "id": "025d4421",
   "metadata": {},
   "source": [
    "2. Entropy"
   ]
  },
  {
   "cell_type": "code",
   "execution_count": 45,
   "id": "bb33b1ff",
   "metadata": {},
   "outputs": [
    {
     "data": {
      "text/plain": [
       "GridSearchCV(estimator=DecisionTreeClassifier(criterion='entropy',\n",
       "                                              random_state=0),\n",
       "             param_grid={'max_depth': range(1, 10),\n",
       "                         'max_leaf_nodes': range(2, 11),\n",
       "                         'min_samples_split': range(2, 11)})"
      ]
     },
     "execution_count": 45,
     "metadata": {},
     "output_type": "execute_result"
    }
   ],
   "source": [
    "# ENTROPY\n",
    "# GridSearch + CV\n",
    "from sklearn.model_selection import GridSearchCV\n",
    "\n",
    "# estimator\n",
    "opt_tree = DecisionTreeClassifier(random_state = 0, criterion = 'entropy') \n",
    "##  random state is set for all models (hyperparameter specifications)\n",
    "\n",
    "# hyperparameter setting\n",
    "dt_params = {'max_depth':  range(1,10) ,\n",
    "             'min_samples_split':   range(2,11),\n",
    "             'max_leaf_nodes':    range(2,11)   }\n",
    "\n",
    "\n",
    "# gridsearch function\n",
    "grid_tree = GridSearchCV(opt_tree, dt_params)\n",
    "\n",
    "grid_tree.fit(X_train, y_train)"
   ]
  },
  {
   "cell_type": "code",
   "execution_count": 46,
   "id": "77a4af20",
   "metadata": {},
   "outputs": [
    {
     "data": {
      "text/plain": [
       "{'max_depth': 7, 'max_leaf_nodes': 10, 'min_samples_split': 2}"
      ]
     },
     "execution_count": 46,
     "metadata": {},
     "output_type": "execute_result"
    }
   ],
   "source": [
    "# Report the best hyperparameters chosen\n",
    "grid_tree.best_params_"
   ]
  },
  {
   "cell_type": "code",
   "execution_count": 47,
   "id": "cbb22da0",
   "metadata": {},
   "outputs": [
    {
     "data": {
      "text/plain": [
       "0.8708429557362816"
      ]
     },
     "execution_count": 47,
     "metadata": {},
     "output_type": "execute_result"
    }
   ],
   "source": [
    "grid_tree.best_score_"
   ]
  },
  {
   "cell_type": "markdown",
   "id": "900e3471",
   "metadata": {},
   "source": [
    "3. GINI"
   ]
  },
  {
   "cell_type": "code",
   "execution_count": 48,
   "id": "6890e25e",
   "metadata": {},
   "outputs": [
    {
     "data": {
      "text/plain": [
       "GridSearchCV(estimator=DecisionTreeClassifier(random_state=0),\n",
       "             param_grid={'max_depth': range(1, 10),\n",
       "                         'max_leaf_nodes': range(2, 11),\n",
       "                         'min_samples_split': range(2, 11)})"
      ]
     },
     "execution_count": 48,
     "metadata": {},
     "output_type": "execute_result"
    }
   ],
   "source": [
    "# ENTROPY\n",
    "# GridSearch + CV\n",
    "from sklearn.model_selection import GridSearchCV\n",
    "\n",
    "# estimator\n",
    "opt_tree = DecisionTreeClassifier(random_state = 0, criterion = 'gini') \n",
    "##  random state is set for all models (hyperparameter specifications)\n",
    "\n",
    "# hyperparameter setting\n",
    "dt_params = {'max_depth':  range(1,10) ,\n",
    "             'min_samples_split':   range(2,11),\n",
    "             'max_leaf_nodes':    range(2,11)   }\n",
    "\n",
    "\n",
    "# gridsearch function\n",
    "grid_tree = GridSearchCV(opt_tree, dt_params)\n",
    "\n",
    "grid_tree.fit(X_train, y_train)"
   ]
  },
  {
   "cell_type": "code",
   "execution_count": 49,
   "id": "40b28d1a",
   "metadata": {},
   "outputs": [
    {
     "data": {
      "text/plain": [
       "{'max_depth': 6, 'max_leaf_nodes': 10, 'min_samples_split': 2}"
      ]
     },
     "execution_count": 49,
     "metadata": {},
     "output_type": "execute_result"
    }
   ],
   "source": [
    "# Report the best hyperparameters chosen\n",
    "grid_tree.best_params_"
   ]
  },
  {
   "cell_type": "code",
   "execution_count": 50,
   "id": "c6fa6572",
   "metadata": {
    "scrolled": true
   },
   "outputs": [
    {
     "data": {
      "text/plain": [
       "0.8711646996414284"
      ]
     },
     "execution_count": 50,
     "metadata": {},
     "output_type": "execute_result"
    }
   ],
   "source": [
    "grid_tree.best_score_"
   ]
  },
  {
   "cell_type": "markdown",
   "id": "5a9b84fb",
   "metadata": {},
   "source": [
    "4.POST PRUNING"
   ]
  },
  {
   "cell_type": "code",
   "execution_count": 51,
   "id": "4ab42c2f",
   "metadata": {},
   "outputs": [
    {
     "data": {
      "text/plain": [
       "GridSearchCV(estimator=DecisionTreeClassifier(ccp_alpha=0.002,\n",
       "                                              criterion='entropy'),\n",
       "             param_grid={'max_depth': range(1, 10),\n",
       "                         'max_leaf_nodes': range(2, 11),\n",
       "                         'min_samples_split': range(2, 11)})"
      ]
     },
     "execution_count": 51,
     "metadata": {},
     "output_type": "execute_result"
    }
   ],
   "source": [
    "# POST PRUNING\n",
    "# GridSearch + CV\n",
    "from sklearn.model_selection import GridSearchCV\n",
    "\n",
    "# estimator\n",
    "opt_tree = DecisionTreeClassifier(criterion='entropy', ccp_alpha = 0.002) \n",
    "##  random state is set for all models (hyperparameter specifications)\n",
    "\n",
    "# hyperparameter setting\n",
    "dt_params = {'max_depth':  range(1,10) ,\n",
    "             'min_samples_split':   range(2,11),\n",
    "             'max_leaf_nodes':    range(2,11)   }\n",
    "\n",
    "\n",
    "# gridsearch function\n",
    "grid_tree = GridSearchCV(opt_tree, dt_params)\n",
    "\n",
    "grid_tree.fit(X_train, y_train)"
   ]
  },
  {
   "cell_type": "code",
   "execution_count": 52,
   "id": "85fe66b2",
   "metadata": {},
   "outputs": [
    {
     "data": {
      "text/plain": [
       "{'max_depth': 7, 'max_leaf_nodes': 10, 'min_samples_split': 2}"
      ]
     },
     "execution_count": 52,
     "metadata": {},
     "output_type": "execute_result"
    }
   ],
   "source": [
    "# Report the best hyperparameters chosen\n",
    "grid_tree.best_params_"
   ]
  },
  {
   "cell_type": "code",
   "execution_count": 91,
   "id": "23ae8201",
   "metadata": {
    "scrolled": false
   },
   "outputs": [
    {
     "data": {
      "text/plain": [
       "0.8708429557362816"
      ]
     },
     "execution_count": 91,
     "metadata": {},
     "output_type": "execute_result"
    }
   ],
   "source": [
    "grid_tree.best_score_"
   ]
  },
  {
   "cell_type": "code",
   "execution_count": 100,
   "id": "372898f2",
   "metadata": {},
   "outputs": [
    {
     "name": "stdout",
     "output_type": "stream",
     "text": [
      "|--- feature_1 <= -0.38\n",
      "|   |--- feature_15 <= 0.59\n",
      "|   |   |--- class: 0.0\n",
      "|   |--- feature_15 >  0.59\n",
      "|   |   |--- class: 0.0\n",
      "|--- feature_1 >  -0.38\n",
      "|   |--- feature_0 <= 0.44\n",
      "|   |   |--- feature_0 <= -0.72\n",
      "|   |   |   |--- class: 0.0\n",
      "|   |   |--- feature_0 >  -0.72\n",
      "|   |   |   |--- feature_1 <= 1.46\n",
      "|   |   |   |   |--- feature_7 <= -0.08\n",
      "|   |   |   |   |   |--- class: 0.0\n",
      "|   |   |   |   |--- feature_7 >  -0.08\n",
      "|   |   |   |   |   |--- class: 0.0\n",
      "|   |   |   |--- feature_1 >  1.46\n",
      "|   |   |   |   |--- class: 0.0\n",
      "|   |--- feature_0 >  0.44\n",
      "|   |   |--- feature_2 <= 1.30\n",
      "|   |   |   |--- feature_19 <= -2.65\n",
      "|   |   |   |   |--- class: 0.0\n",
      "|   |   |   |--- feature_19 >  -2.65\n",
      "|   |   |   |   |--- feature_1 <= 0.12\n",
      "|   |   |   |   |   |--- class: 0.0\n",
      "|   |   |   |   |--- feature_1 >  0.12\n",
      "|   |   |   |   |   |--- class: 1.0\n",
      "|   |   |--- feature_2 >  1.30\n",
      "|   |   |   |--- class: 0.0\n",
      "\n"
     ]
    }
   ],
   "source": [
    "# Post Pruning Tree\n",
    "from sklearn import tree\n",
    "# grid_tree.best_estimator_\n",
    "print(tree.export_text(grid_tree.best_estimator_))"
   ]
  },
  {
   "cell_type": "code",
   "execution_count": 111,
   "id": "55d80486",
   "metadata": {},
   "outputs": [
    {
     "data": {
      "text/html": [
       "<div>\n",
       "<style scoped>\n",
       "    .dataframe tbody tr th:only-of-type {\n",
       "        vertical-align: middle;\n",
       "    }\n",
       "\n",
       "    .dataframe tbody tr th {\n",
       "        vertical-align: top;\n",
       "    }\n",
       "\n",
       "    .dataframe thead tr th {\n",
       "        text-align: left;\n",
       "    }\n",
       "</style>\n",
       "<table border=\"1\" class=\"dataframe\">\n",
       "  <thead>\n",
       "    <tr>\n",
       "      <th></th>\n",
       "      <th>Hour</th>\n",
       "      <th>Temperature(°C)</th>\n",
       "      <th>Humidity(%)</th>\n",
       "      <th>Wind speed (m/s)</th>\n",
       "      <th>Visibility (10m)</th>\n",
       "      <th>Dew point temperature(°C)</th>\n",
       "      <th>Solar Radiation (MJ/m2)</th>\n",
       "      <th>Rainfall(mm)</th>\n",
       "      <th>Snowfall (cm)</th>\n",
       "      <th>Month</th>\n",
       "      <th>Day</th>\n",
       "      <th>Weekday</th>\n",
       "      <th>Seasons_Autumn</th>\n",
       "      <th>Seasons_Spring</th>\n",
       "      <th>Seasons_Summer</th>\n",
       "      <th>Seasons_Winter</th>\n",
       "      <th>Holiday_Holiday</th>\n",
       "      <th>Holiday_No Holiday</th>\n",
       "      <th>Functioning Day_No</th>\n",
       "      <th>Functioning Day_Yes</th>\n",
       "    </tr>\n",
       "  </thead>\n",
       "  <tbody>\n",
       "    <tr>\n",
       "      <th>0</th>\n",
       "      <td>0.075614</td>\n",
       "      <td>0.938038</td>\n",
       "      <td>1.080926</td>\n",
       "      <td>-0.886448</td>\n",
       "      <td>0.919502</td>\n",
       "      <td>1.254397</td>\n",
       "      <td>0.167554</td>\n",
       "      <td>-0.125899</td>\n",
       "      <td>-0.173321</td>\n",
       "      <td>1.003934</td>\n",
       "      <td>-0.983276</td>\n",
       "      <td>1.573592</td>\n",
       "      <td>-0.578857</td>\n",
       "      <td>-0.581116</td>\n",
       "      <td>1.728293</td>\n",
       "      <td>-0.570822</td>\n",
       "      <td>-0.22521</td>\n",
       "      <td>0.22521</td>\n",
       "      <td>-0.182666</td>\n",
       "      <td>0.182666</td>\n",
       "    </tr>\n",
       "    <tr>\n",
       "      <th>1</th>\n",
       "      <td>0.220193</td>\n",
       "      <td>2.089728</td>\n",
       "      <td>-0.983977</td>\n",
       "      <td>0.552278</td>\n",
       "      <td>0.702462</td>\n",
       "      <td>1.307901</td>\n",
       "      <td>2.833708</td>\n",
       "      <td>-0.125899</td>\n",
       "      <td>-0.173321</td>\n",
       "      <td>-1.607790</td>\n",
       "      <td>-0.869596</td>\n",
       "      <td>-0.635489</td>\n",
       "      <td>-0.578857</td>\n",
       "      <td>-0.581116</td>\n",
       "      <td>1.728293</td>\n",
       "      <td>-0.570822</td>\n",
       "      <td>-0.22521</td>\n",
       "      <td>0.22521</td>\n",
       "      <td>-0.182666</td>\n",
       "      <td>0.182666</td>\n",
       "    </tr>\n",
       "    <tr>\n",
       "      <th>2</th>\n",
       "      <td>-0.213544</td>\n",
       "      <td>0.387230</td>\n",
       "      <td>-1.131470</td>\n",
       "      <td>0.072703</td>\n",
       "      <td>0.212476</td>\n",
       "      <td>-0.167266</td>\n",
       "      <td>1.929733</td>\n",
       "      <td>-0.125899</td>\n",
       "      <td>-0.173321</td>\n",
       "      <td>-0.737215</td>\n",
       "      <td>1.517673</td>\n",
       "      <td>1.573592</td>\n",
       "      <td>-0.578857</td>\n",
       "      <td>1.720825</td>\n",
       "      <td>-0.578606</td>\n",
       "      <td>-0.570822</td>\n",
       "      <td>-0.22521</td>\n",
       "      <td>0.22521</td>\n",
       "      <td>-0.182666</td>\n",
       "      <td>0.182666</td>\n",
       "    </tr>\n",
       "    <tr>\n",
       "      <th>3</th>\n",
       "      <td>-0.791860</td>\n",
       "      <td>-0.931372</td>\n",
       "      <td>-0.000690</td>\n",
       "      <td>1.991005</td>\n",
       "      <td>-0.413983</td>\n",
       "      <td>-0.732874</td>\n",
       "      <td>-0.656322</td>\n",
       "      <td>-0.125899</td>\n",
       "      <td>-0.173321</td>\n",
       "      <td>0.133359</td>\n",
       "      <td>-1.324314</td>\n",
       "      <td>-0.635489</td>\n",
       "      <td>-0.578857</td>\n",
       "      <td>1.720825</td>\n",
       "      <td>-0.578606</td>\n",
       "      <td>-0.570822</td>\n",
       "      <td>-0.22521</td>\n",
       "      <td>0.22521</td>\n",
       "      <td>-0.182666</td>\n",
       "      <td>0.182666</td>\n",
       "    </tr>\n",
       "    <tr>\n",
       "      <th>4</th>\n",
       "      <td>0.220193</td>\n",
       "      <td>1.188405</td>\n",
       "      <td>-0.983977</td>\n",
       "      <td>-0.023212</td>\n",
       "      <td>0.919502</td>\n",
       "      <td>0.574139</td>\n",
       "      <td>2.273015</td>\n",
       "      <td>-0.125899</td>\n",
       "      <td>-0.173321</td>\n",
       "      <td>1.003934</td>\n",
       "      <td>-0.755917</td>\n",
       "      <td>-0.635489</td>\n",
       "      <td>1.727543</td>\n",
       "      <td>-0.581116</td>\n",
       "      <td>-0.578606</td>\n",
       "      <td>-0.570822</td>\n",
       "      <td>-0.22521</td>\n",
       "      <td>0.22521</td>\n",
       "      <td>-0.182666</td>\n",
       "      <td>0.182666</td>\n",
       "    </tr>\n",
       "  </tbody>\n",
       "</table>\n",
       "</div>"
      ],
      "text/plain": [
       "       Hour Temperature(°C) Humidity(%) Wind speed (m/s) Visibility (10m)  \\\n",
       "0  0.075614        0.938038    1.080926        -0.886448         0.919502   \n",
       "1  0.220193        2.089728   -0.983977         0.552278         0.702462   \n",
       "2 -0.213544        0.387230   -1.131470         0.072703         0.212476   \n",
       "3 -0.791860       -0.931372   -0.000690         1.991005        -0.413983   \n",
       "4  0.220193        1.188405   -0.983977        -0.023212         0.919502   \n",
       "\n",
       "  Dew point temperature(°C) Solar Radiation (MJ/m2) Rainfall(mm)  \\\n",
       "0                  1.254397                0.167554    -0.125899   \n",
       "1                  1.307901                2.833708    -0.125899   \n",
       "2                 -0.167266                1.929733    -0.125899   \n",
       "3                 -0.732874               -0.656322    -0.125899   \n",
       "4                  0.574139                2.273015    -0.125899   \n",
       "\n",
       "  Snowfall (cm)     Month       Day   Weekday Seasons_Autumn Seasons_Spring  \\\n",
       "0     -0.173321  1.003934 -0.983276  1.573592      -0.578857      -0.581116   \n",
       "1     -0.173321 -1.607790 -0.869596 -0.635489      -0.578857      -0.581116   \n",
       "2     -0.173321 -0.737215  1.517673  1.573592      -0.578857       1.720825   \n",
       "3     -0.173321  0.133359 -1.324314 -0.635489      -0.578857       1.720825   \n",
       "4     -0.173321  1.003934 -0.755917 -0.635489       1.727543      -0.581116   \n",
       "\n",
       "  Seasons_Summer Seasons_Winter Holiday_Holiday Holiday_No Holiday  \\\n",
       "0       1.728293      -0.570822        -0.22521            0.22521   \n",
       "1       1.728293      -0.570822        -0.22521            0.22521   \n",
       "2      -0.578606      -0.570822        -0.22521            0.22521   \n",
       "3      -0.578606      -0.570822        -0.22521            0.22521   \n",
       "4      -0.578606      -0.570822        -0.22521            0.22521   \n",
       "\n",
       "  Functioning Day_No Functioning Day_Yes  \n",
       "0          -0.182666            0.182666  \n",
       "1          -0.182666            0.182666  \n",
       "2          -0.182666            0.182666  \n",
       "3          -0.182666            0.182666  \n",
       "4          -0.182666            0.182666  "
      ]
     },
     "execution_count": 111,
     "metadata": {},
     "output_type": "execute_result"
    }
   ],
   "source": [
    "X_train.head()"
   ]
  },
  {
   "cell_type": "code",
   "execution_count": 85,
   "id": "82685f44",
   "metadata": {},
   "outputs": [
    {
     "data": {
      "image/png": "[encoded data removed]",
      "text/plain": [
       "<Figure size 1440x720 with 1 Axes>"
      ]
     },
     "metadata": {
      "needs_background": "light"
     },
     "output_type": "display_data"
    }
   ],
   "source": [
    "# Plot the decision tree\n",
    "from sklearn import tree\n",
    "\n",
    "fig = plt.figure(figsize=(20,10)) # set a proper figure size (in case that the figure is too small to read or ratio is not proper)\n",
    "\n",
    "tree.plot_tree(grid_tree.best_estimator_, \n",
    "               filled = True, impurity = True) # whether to color the boxes, whether to report gini index\n",
    "             #   fontsize = 12) # set fontsize to read\n",
    "plt.show()\n"
   ]
  },
  {
   "cell_type": "markdown",
   "id": "cb9759de",
   "metadata": {},
   "source": [
    "# CLASSIFICATION METRICS "
   ]
  },
  {
   "cell_type": "markdown",
   "id": "4f6c4226",
   "metadata": {},
   "source": [
    "We will check the classification report for the classifier which performed the best"
   ]
  },
  {
   "cell_type": "markdown",
   "id": "36c54b99",
   "metadata": {},
   "source": [
    "1. Decision Tree - GINI\n",
    "2. Decision Tree - Entropy\n",
    "3. Decision Tree - Post Pruning\n",
    "4. SVM - DEFAULT parameters (0.9243)\n",
    "5. SVM - POLYNOMIAL and C= 100.0 (0.9212)\n"
   ]
  },
  {
   "cell_type": "code",
   "execution_count": 45,
   "id": "2de9666b",
   "metadata": {},
   "outputs": [],
   "source": [
    "#After running Decision Tree - Unpruned\n",
    "def classification_details (y_test,y_test_predicted):\n",
    "    confmatrix = confusion_matrix(y_test, y_test_predicted)\n",
    "    print('Confusion matrix\\n\\n', confmatrix)\n",
    "    print('\\nTrue Positives(TP) = ', confmatrix[0,0])\n",
    "    print('\\nTrue Negatives(TN) = ', confmatrix[1,1])\n",
    "    print('\\nFalse Positives(FP) = ', confmatrix[0,1])\n",
    "    print('\\nFalse Negatives(FN) = ', confmatrix[1,0])\n",
    "\n",
    "    from sklearn.metrics import classification_report\n",
    "    print(classification_report(y_test, y_test_predicted))\n",
    "\n",
    "    #Classification Accuracy\n",
    "    TP = confmatrix[0,0]\n",
    "    TN = confmatrix[1,1]\n",
    "    FP = confmatrix[0,1]\n",
    "    FN = confmatrix[1,0]\n",
    "\n",
    "    classification_accuracy = (TP + TN) / float(TP + TN + FP + FN)\n",
    "    print('Classification accuracy : {0:0.4f}'.format(classification_accuracy))\n",
    "\n",
    "    # print classification error\n",
    "    classification_error = (FP + FN) / float(TP + TN + FP + FN)\n",
    "    print('Classification error : {0:0.4f}'.format(classification_error))\n",
    "\n",
    "    # print precision score\n",
    "    precision = TP / float(TP + FP)\n",
    "    print('Precision : {0:0.4f}'.format(precision))\n",
    "\n",
    "    recall = TP / float(TP + FN)\n",
    "    print('Recall or Sensitivity : {0:0.4f}'.format(recall))\n",
    "\n",
    "    true_positive_rate = TP / float(TP + FN)\n",
    "    print('True Positive Rate : {0:0.4f}'.format(true_positive_rate))\n",
    "\n",
    "    false_positive_rate = FP / float(FP + TN)\n",
    "    print('False Positive Rate : {0:0.4f}'.format(false_positive_rate))\n",
    "\n",
    "    specificity = TN / (TN + FP)\n",
    "    print('Specificity : {0:0.4f}'.format(specificity))\n",
    "    \n",
    "    # plot ROC Curve\n",
    "    from sklearn.metrics import roc_curve\n",
    "    fpr, tpr, thresholds = roc_curve(y_test, y_test_predicted)\n",
    "    plt.figure(figsize=(6,4))\n",
    "    plt.plot(fpr, tpr, linewidth=2)\n",
    "    plt.plot([0,1], [0,1], 'k--' )\n",
    "    plt.rcParams['font.size'] = 12\n",
    "    plt.title('ROC curve')\n",
    "    plt.xlabel('False Positive Rate (1 - Specificity)')\n",
    "    plt.ylabel('True Positive Rate (Sensitivity)')\n",
    "    plt.show()\n",
    "    \n",
    "    # compute ROC AUC\n",
    "    from sklearn.metrics import roc_auc_score\n",
    "    ROC_AUC = roc_auc_score(y_test, y_test_predicted)\n",
    "    print('ROC AUC : {:.4f}'.format(ROC_AUC))"
   ]
  },
  {
   "cell_type": "code",
   "execution_count": 50,
   "id": "a265b1df",
   "metadata": {},
   "outputs": [
    {
     "name": "stdout",
     "output_type": "stream",
     "text": [
      "Confusion matrix\n",
      "\n",
      " [[1847  145]\n",
      " [  81  555]]\n",
      "\n",
      "True Positives(TP) =  1847\n",
      "\n",
      "True Negatives(TN) =  555\n",
      "\n",
      "False Positives(FP) =  145\n",
      "\n",
      "False Negatives(FN) =  81\n",
      "              precision    recall  f1-score   support\n",
      "\n",
      "         0.0       0.96      0.93      0.94      1992\n",
      "         1.0       0.79      0.87      0.83       636\n",
      "\n",
      "    accuracy                           0.91      2628\n",
      "   macro avg       0.88      0.90      0.89      2628\n",
      "weighted avg       0.92      0.91      0.92      2628\n",
      "\n",
      "Classification accuracy : 0.9140\n",
      "Classification error : 0.0860\n",
      "Precision : 0.9272\n",
      "Recall or Sensitivity : 0.9580\n",
      "True Positive Rate : 0.9580\n",
      "False Positive Rate : 0.2071\n",
      "Specificity : 0.7929\n"
     ]
    },
    {
     "data": {
      "image/png": "[encoded data removed]",
      "text/plain": [
       "<Figure size 432x288 with 1 Axes>"
      ]
     },
     "metadata": {
      "needs_background": "light"
     },
     "output_type": "display_data"
    },
    {
     "name": "stdout",
     "output_type": "stream",
     "text": [
      "ROC AUC : 0.8999\n"
     ]
    }
   ],
   "source": [
    "#1 Decision Tree - GINI\n",
    "classification_details(y_test, y_test_predict_gini)"
   ]
  },
  {
   "cell_type": "code",
   "execution_count": 49,
   "id": "01b5038a",
   "metadata": {},
   "outputs": [
    {
     "name": "stdout",
     "output_type": "stream",
     "text": [
      "Confusion matrix\n",
      "\n",
      " [[1902   90]\n",
      " [ 202  434]]\n",
      "\n",
      "True Positives(TP) =  1902\n",
      "\n",
      "True Negatives(TN) =  434\n",
      "\n",
      "False Positives(FP) =  90\n",
      "\n",
      "False Negatives(FN) =  202\n",
      "              precision    recall  f1-score   support\n",
      "\n",
      "         0.0       0.90      0.95      0.93      1992\n",
      "         1.0       0.83      0.68      0.75       636\n",
      "\n",
      "    accuracy                           0.89      2628\n",
      "   macro avg       0.87      0.82      0.84      2628\n",
      "weighted avg       0.89      0.89      0.89      2628\n",
      "\n",
      "Classification accuracy : 0.8889\n",
      "Classification error : 0.1111\n",
      "Precision : 0.9548\n",
      "Recall or Sensitivity : 0.9040\n",
      "True Positive Rate : 0.9040\n",
      "False Positive Rate : 0.1718\n",
      "Specificity : 0.8282\n"
     ]
    },
    {
     "data": {
      "image/png": "[encoded data removed]",
      "text/plain": [
       "<Figure size 432x288 with 1 Axes>"
      ]
     },
     "metadata": {
      "needs_background": "light"
     },
     "output_type": "display_data"
    },
    {
     "name": "stdout",
     "output_type": "stream",
     "text": [
      "ROC AUC : 0.8186\n"
     ]
    }
   ],
   "source": [
    "#2 Decision Tree - Entropy\n",
    "classification_details(y_test, y_test_predict_entropy)"
   ]
  },
  {
   "cell_type": "code",
   "execution_count": 85,
   "id": "f28c11ee",
   "metadata": {},
   "outputs": [
    {
     "name": "stdout",
     "output_type": "stream",
     "text": [
      "Confusion matrix\n",
      "\n",
      " [[1892  100]\n",
      " [  75  561]]\n",
      "\n",
      "True Positives(TP) =  1892\n",
      "\n",
      "True Negatives(TN) =  561\n",
      "\n",
      "False Positives(FP) =  100\n",
      "\n",
      "False Negatives(FN) =  75\n",
      "              precision    recall  f1-score   support\n",
      "\n",
      "         0.0       0.96      0.95      0.96      1992\n",
      "         1.0       0.85      0.88      0.87       636\n",
      "\n",
      "    accuracy                           0.93      2628\n",
      "   macro avg       0.91      0.92      0.91      2628\n",
      "weighted avg       0.93      0.93      0.93      2628\n",
      "\n",
      "Classification accuracy : 0.9334\n",
      "Classification error : 0.0666\n",
      "Precision : 0.9498\n",
      "Recall or Sensitivity : 0.9619\n",
      "True Positive Rate : 0.9619\n",
      "False Positive Rate : 0.1513\n",
      "Specificity : 0.8487\n"
     ]
    },
    {
     "data": {
      "image/png": "[encoded data removed]",
      "text/plain": [
       "<Figure size 432x288 with 1 Axes>"
      ]
     },
     "metadata": {
      "needs_background": "light"
     },
     "output_type": "display_data"
    },
    {
     "name": "stdout",
     "output_type": "stream",
     "text": [
      "ROC AUC : 0.9159\n"
     ]
    }
   ],
   "source": [
    "#3 Decision Tree - Post Pruned\n",
    "classification_details(y_test, y_test_predict_postpruning)"
   ]
  },
  {
   "cell_type": "code",
   "execution_count": 48,
   "id": "11503482",
   "metadata": {},
   "outputs": [
    {
     "name": "stdout",
     "output_type": "stream",
     "text": [
      "Confusion matrix\n",
      "\n",
      " [[1904   88]\n",
      " [ 111  525]]\n",
      "\n",
      "True Positives(TP) =  1904\n",
      "\n",
      "True Negatives(TN) =  525\n",
      "\n",
      "False Positives(FP) =  88\n",
      "\n",
      "False Negatives(FN) =  111\n",
      "              precision    recall  f1-score   support\n",
      "\n",
      "         0.0       0.94      0.96      0.95      1992\n",
      "         1.0       0.86      0.83      0.84       636\n",
      "\n",
      "    accuracy                           0.92      2628\n",
      "   macro avg       0.90      0.89      0.90      2628\n",
      "weighted avg       0.92      0.92      0.92      2628\n",
      "\n",
      "Classification accuracy : 0.9243\n",
      "Classification error : 0.0757\n",
      "Precision : 0.9558\n",
      "Recall or Sensitivity : 0.9449\n",
      "True Positive Rate : 0.9449\n",
      "False Positive Rate : 0.1436\n",
      "Specificity : 0.8564\n"
     ]
    },
    {
     "data": {
      "image/png": "[encoded data removed]",
      "text/plain": [
       "<Figure size 432x288 with 1 Axes>"
      ]
     },
     "metadata": {
      "needs_background": "light"
     },
     "output_type": "display_data"
    },
    {
     "name": "stdout",
     "output_type": "stream",
     "text": [
      "ROC AUC : 0.8906\n"
     ]
    }
   ],
   "source": [
    "#4 SVM - Default at C = 100.0\n",
    "classification_details(y_test, y_pred)"
   ]
  },
  {
   "cell_type": "code",
   "execution_count": 51,
   "id": "855045be",
   "metadata": {},
   "outputs": [
    {
     "name": "stdout",
     "output_type": "stream",
     "text": [
      "Confusion matrix\n",
      "\n",
      " [[1907   85]\n",
      " [ 122  514]]\n",
      "\n",
      "True Positives(TP) =  1907\n",
      "\n",
      "True Negatives(TN) =  514\n",
      "\n",
      "False Positives(FP) =  85\n",
      "\n",
      "False Negatives(FN) =  122\n",
      "              precision    recall  f1-score   support\n",
      "\n",
      "         0.0       0.94      0.96      0.95      1992\n",
      "         1.0       0.86      0.81      0.83       636\n",
      "\n",
      "    accuracy                           0.92      2628\n",
      "   macro avg       0.90      0.88      0.89      2628\n",
      "weighted avg       0.92      0.92      0.92      2628\n",
      "\n",
      "Classification accuracy : 0.9212\n",
      "Classification error : 0.0788\n",
      "Precision : 0.9573\n",
      "Recall or Sensitivity : 0.9399\n",
      "True Positive Rate : 0.9399\n",
      "False Positive Rate : 0.1419\n",
      "Specificity : 0.8581\n"
     ]
    },
    {
     "data": {
      "image/png": "[encoded data removed]",
      "text/plain": [
       "<Figure size 432x288 with 1 Axes>"
      ]
     },
     "metadata": {
      "needs_background": "light"
     },
     "output_type": "display_data"
    },
    {
     "name": "stdout",
     "output_type": "stream",
     "text": [
      "ROC AUC : 0.8828\n"
     ]
    }
   ],
   "source": [
    "#4 SVM - Default at Poly, C = 100.0\n",
    "classification_details(y_test, y_pred_poly)"
   ]
  }
 ],
 "metadata": {
  "kernelspec": {
   "display_name": "Python 3 (ipykernel)",
   "language": "python",
   "name": "python3"
  },
  "language_info": {
   "codemirror_mode": {
    "name": "ipython",
    "version": 3
   },
   "file_extension": ".py",
   "mimetype": "text/x-python",
   "name": "python",
   "nbconvert_exporter": "python",
   "pygments_lexer": "ipython3",
   "version": "3.9.12"
  }
 },
 "nbformat": 4,
 "nbformat_minor": 5
}
